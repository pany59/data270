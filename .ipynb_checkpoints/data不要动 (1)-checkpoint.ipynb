{
 "cells": [
  {
   "cell_type": "code",
   "execution_count": 1,
   "outputs": [],
   "source": [
    "# 可供参考 https://www.kaggle.com/code/surekharamireddy/spam-detection-with-99-accuracy"
   ],
   "metadata": {
    "id": "o3hAS_Fvj4f0"
   }
  },
  {
   "cell_type": "code",
   "execution_count": 2,
   "metadata": {
    "collapsed": true,
    "id": "Gr6Ht94-ItoE",
    "outputId": "548f1433-406c-4d12-d2e9-f14d17c372c8",
    "colab": {
     "base_uri": "https://localhost:8080/",
     "height": 235
    },
    "executionInfo": {
     "status": "error",
     "timestamp": 1681705973079,
     "user_tz": 420,
     "elapsed": 1258,
     "user": {
      "displayName": "Johnny Qiu",
      "userId": "13742367285172598432"
     }
    }
   },
   "outputs": [],
   "source": [
    "import os\n",
    "import pandas as pd\n",
    "import numpy as np\n",
    "\n",
    "# 根目录\n",
    "root_dir = \"lingspam_public/bare\"\n",
    "\n",
    "# 创建DataFrame with 3 cols\n",
    "# df = pd.DataFrame(columns=[\"label\", \"subject\", \"main_body\"])\n",
    "df = []\n",
    "\n",
    "# 遍历根目录下的10个文件夹\n",
    "for i in range(1, 11):\n",
    "    folder = os.path.join(root_dir, \"part{}\".format(i))\n",
    "    file_list = os.listdir(folder)\n",
    "\n",
    "    # 遍历每个文件\n",
    "    for file_name in file_list:\n",
    "        # 重复文件名的去掉 df.drop_duplicates(subset=['file_name'], keep='first', inplace=True)\n",
    "\n",
    "        with open(os.path.join(folder, file_name), \"r\") as f:\n",
    "            file_content = f.readlines()\n",
    "\n",
    "            # 获取标签\n",
    "            if \"spm\" in file_name:\n",
    "                label = \"spam\"\n",
    "            else:\n",
    "                label = \"non-spam\"\n",
    "\n",
    "            # 获取主题行和正文\n",
    "            # 这里把Subject: 去掉了, 只留下subject本身\n",
    "            if file_name == \"Icon\": continue\n",
    "            if len(file_content) == 0:\n",
    "                print(folder, file_name)\n",
    "            else:\n",
    "                subject = file_content[0].replace(\"Subject: \", \"\").strip()\n",
    "            # 用strip()是为了防止存在换行符\\n\n",
    "            main_body = \"\".join([line.strip() for line in file_content[1:]])\n",
    "\n",
    "            # 将信息添加到DataFrame中\n",
    "            df.append(pd.DataFrame({\"label\": label, \"subject\": subject, \"main_body\": main_body}, index=[0]))\n",
    "\n",
    "# 将所有数据连接在一起\n",
    "df = pd.concat(df, ignore_index=True)\n",
    "\n",
    "# \"\"实际上不是空值, 他的值就是\"\"\n",
    "# 这里把所有\"\"替换成空值\n",
    "df[\"label\"].replace(\"\", np.nan, inplace=True)\n",
    "df[\"subject\"].replace(\"\", np.nan, inplace=True)\n",
    "df[\"main_body\"].replace(\"\", np.nan, inplace=True)"
   ]
  },
  {
   "cell_type": "code",
   "execution_count": 3,
   "outputs": [
    {
     "data": {
      "text/plain": "         label                                            subject  \\\n0     non-spam                            conference announcement   \n1         spam                              \" life without debt \"   \n2         spam  do want the best and economical hunting vacati...   \n3     non-spam                           query : uninflected tags   \n4     non-spam                                no accent allowed !   \n...        ...                                                ...   \n2888  non-spam                          sla conference paris 1999   \n2889  non-spam                            conference announcement   \n2890  non-spam                                          semantics   \n2891  non-spam                    honored by two keynote speakers   \n2892  non-spam                                           typology   \n\n                                              main_body  \n0     * * * * * * * * * * * * * * * * * * * * * firs...  \n1     pardon the intrusion . no offence is meant . i...  \n2     if you want the best hunting and camping vacat...  \n3     does anybody know of recent work on uninflecte...  \n4     has anybody else seen a weird piece in a newsp...  \n...                                                 ...  \n2888  call for papers xi th international conference...  \n2889  southern illinois university edwardsville and ...  \n2890  we would like to bring to your attention to tw...  \n2891  international conference on natural language p...  \n2892  we would like to bring to your attention recen...  \n\n[2893 rows x 3 columns]",
      "text/html": "<div>\n<style scoped>\n    .dataframe tbody tr th:only-of-type {\n        vertical-align: middle;\n    }\n\n    .dataframe tbody tr th {\n        vertical-align: top;\n    }\n\n    .dataframe thead th {\n        text-align: right;\n    }\n</style>\n<table border=\"1\" class=\"dataframe\">\n  <thead>\n    <tr style=\"text-align: right;\">\n      <th></th>\n      <th>label</th>\n      <th>subject</th>\n      <th>main_body</th>\n    </tr>\n  </thead>\n  <tbody>\n    <tr>\n      <th>0</th>\n      <td>non-spam</td>\n      <td>conference announcement</td>\n      <td>* * * * * * * * * * * * * * * * * * * * * firs...</td>\n    </tr>\n    <tr>\n      <th>1</th>\n      <td>spam</td>\n      <td>\" life without debt \"</td>\n      <td>pardon the intrusion . no offence is meant . i...</td>\n    </tr>\n    <tr>\n      <th>2</th>\n      <td>spam</td>\n      <td>do want the best and economical hunting vacati...</td>\n      <td>if you want the best hunting and camping vacat...</td>\n    </tr>\n    <tr>\n      <th>3</th>\n      <td>non-spam</td>\n      <td>query : uninflected tags</td>\n      <td>does anybody know of recent work on uninflecte...</td>\n    </tr>\n    <tr>\n      <th>4</th>\n      <td>non-spam</td>\n      <td>no accent allowed !</td>\n      <td>has anybody else seen a weird piece in a newsp...</td>\n    </tr>\n    <tr>\n      <th>...</th>\n      <td>...</td>\n      <td>...</td>\n      <td>...</td>\n    </tr>\n    <tr>\n      <th>2888</th>\n      <td>non-spam</td>\n      <td>sla conference paris 1999</td>\n      <td>call for papers xi th international conference...</td>\n    </tr>\n    <tr>\n      <th>2889</th>\n      <td>non-spam</td>\n      <td>conference announcement</td>\n      <td>southern illinois university edwardsville and ...</td>\n    </tr>\n    <tr>\n      <th>2890</th>\n      <td>non-spam</td>\n      <td>semantics</td>\n      <td>we would like to bring to your attention to tw...</td>\n    </tr>\n    <tr>\n      <th>2891</th>\n      <td>non-spam</td>\n      <td>honored by two keynote speakers</td>\n      <td>international conference on natural language p...</td>\n    </tr>\n    <tr>\n      <th>2892</th>\n      <td>non-spam</td>\n      <td>typology</td>\n      <td>we would like to bring to your attention recen...</td>\n    </tr>\n  </tbody>\n</table>\n<p>2893 rows × 3 columns</p>\n</div>"
     },
     "execution_count": 3,
     "metadata": {},
     "output_type": "execute_result"
    }
   ],
   "source": [
    "df"
   ],
   "metadata": {
    "id": "QMHq10LSItoG",
    "outputId": "cba645ce-527a-44b5-a0d7-c2cd284e063f"
   }
  },
  {
   "cell_type": "code",
   "execution_count": 4,
   "outputs": [],
   "source": [
    "# df.to_csv(\"dataframe.csv\", index=False)"
   ],
   "metadata": {
    "id": "7MgaaCRrj4f5"
   }
  },
  {
   "cell_type": "markdown",
   "source": [
    "# assignment #7 参考kaggle"
   ],
   "metadata": {
    "collapsed": false,
    "id": "QiIaXFhGj4f6"
   }
  },
  {
   "cell_type": "code",
   "execution_count": 5,
   "outputs": [
    {
     "data": {
      "text/plain": "label         0\nsubject      62\nmain_body     0\ndtype: int64"
     },
     "execution_count": 5,
     "metadata": {},
     "output_type": "execute_result"
    }
   ],
   "source": [
    "# check null values\n",
    "df.isnull().sum()"
   ],
   "metadata": {
    "id": "y-Logy_cj4f7",
    "outputId": "abe32cd0-0fc8-4246-ae3d-b2b3a714876b"
   }
  },
  {
   "cell_type": "code",
   "execution_count": 6,
   "outputs": [
    {
     "data": {
      "text/plain": "         label                                            subject  \\\n0     non-spam                            conference announcement   \n1         spam                              \" life without debt \"   \n2         spam  do want the best and economical hunting vacati...   \n3     non-spam                           query : uninflected tags   \n4     non-spam                                no accent allowed !   \n...        ...                                                ...   \n2888  non-spam                          sla conference paris 1999   \n2889  non-spam                            conference announcement   \n2890  non-spam                                          semantics   \n2891  non-spam                    honored by two keynote speakers   \n2892  non-spam                                           typology   \n\n                                              main_body  \n0     * * * * * * * * * * * * * * * * * * * * * firs...  \n1     pardon the intrusion . no offence is meant . i...  \n2     if you want the best hunting and camping vacat...  \n3     does anybody know of recent work on uninflecte...  \n4     has anybody else seen a weird piece in a newsp...  \n...                                                 ...  \n2888  call for papers xi th international conference...  \n2889  southern illinois university edwardsville and ...  \n2890  we would like to bring to your attention to tw...  \n2891  international conference on natural language p...  \n2892  we would like to bring to your attention recen...  \n\n[2893 rows x 3 columns]",
      "text/html": "<div>\n<style scoped>\n    .dataframe tbody tr th:only-of-type {\n        vertical-align: middle;\n    }\n\n    .dataframe tbody tr th {\n        vertical-align: top;\n    }\n\n    .dataframe thead th {\n        text-align: right;\n    }\n</style>\n<table border=\"1\" class=\"dataframe\">\n  <thead>\n    <tr style=\"text-align: right;\">\n      <th></th>\n      <th>label</th>\n      <th>subject</th>\n      <th>main_body</th>\n    </tr>\n  </thead>\n  <tbody>\n    <tr>\n      <th>0</th>\n      <td>non-spam</td>\n      <td>conference announcement</td>\n      <td>* * * * * * * * * * * * * * * * * * * * * firs...</td>\n    </tr>\n    <tr>\n      <th>1</th>\n      <td>spam</td>\n      <td>\" life without debt \"</td>\n      <td>pardon the intrusion . no offence is meant . i...</td>\n    </tr>\n    <tr>\n      <th>2</th>\n      <td>spam</td>\n      <td>do want the best and economical hunting vacati...</td>\n      <td>if you want the best hunting and camping vacat...</td>\n    </tr>\n    <tr>\n      <th>3</th>\n      <td>non-spam</td>\n      <td>query : uninflected tags</td>\n      <td>does anybody know of recent work on uninflecte...</td>\n    </tr>\n    <tr>\n      <th>4</th>\n      <td>non-spam</td>\n      <td>no accent allowed !</td>\n      <td>has anybody else seen a weird piece in a newsp...</td>\n    </tr>\n    <tr>\n      <th>...</th>\n      <td>...</td>\n      <td>...</td>\n      <td>...</td>\n    </tr>\n    <tr>\n      <th>2888</th>\n      <td>non-spam</td>\n      <td>sla conference paris 1999</td>\n      <td>call for papers xi th international conference...</td>\n    </tr>\n    <tr>\n      <th>2889</th>\n      <td>non-spam</td>\n      <td>conference announcement</td>\n      <td>southern illinois university edwardsville and ...</td>\n    </tr>\n    <tr>\n      <th>2890</th>\n      <td>non-spam</td>\n      <td>semantics</td>\n      <td>we would like to bring to your attention to tw...</td>\n    </tr>\n    <tr>\n      <th>2891</th>\n      <td>non-spam</td>\n      <td>honored by two keynote speakers</td>\n      <td>international conference on natural language p...</td>\n    </tr>\n    <tr>\n      <th>2892</th>\n      <td>non-spam</td>\n      <td>typology</td>\n      <td>we would like to bring to your attention recen...</td>\n    </tr>\n  </tbody>\n</table>\n<p>2893 rows × 3 columns</p>\n</div>"
     },
     "execution_count": 6,
     "metadata": {},
     "output_type": "execute_result"
    }
   ],
   "source": [
    "'''\n",
    "Data Cleaning: Handling of Incomplete & Missing Data\n",
    "\n",
    "miss label - drop\n",
    "miss subject - keep\n",
    "miss main body - drop\n",
    "'''\n",
    "# 如果主题行缺失，则用 Missing 替代\n",
    "# df[\"subject\"] = df[\"subject\"].fillna(\"missing\")\n",
    "df[\"subject\"].fillna(\"missing\", inplace=True)\n",
    "\n",
    "# 直接删掉\n",
    "df.dropna(subset=[\"label\"], inplace=True)\n",
    "df.dropna(subset=[\"main_body\"], inplace=True)\n",
    "\n",
    "df"
   ],
   "metadata": {
    "id": "Gd9hXKurj4f7",
    "outputId": "118db9a4-8ee1-4b1f-a639-68b9afcf4afd"
   }
  },
  {
   "cell_type": "code",
   "execution_count": 7,
   "outputs": [
    {
     "name": "stderr",
     "output_type": "stream",
     "text": [
      "/var/folders/t0/y53kbs6x4tb0dm74x09qzlv80000gn/T/ipykernel_37685/466460409.py:33: FutureWarning: The default value of regex will change from True to False in a future version.\n",
      "  df['subject']=df['subject'].str.replace(r'\\d+(\\.\\d+)?', 'numbers')\n",
      "/var/folders/t0/y53kbs6x4tb0dm74x09qzlv80000gn/T/ipykernel_37685/466460409.py:34: FutureWarning: The default value of regex will change from True to False in a future version.\n",
      "  df['main_body']=df['main_body'].str.replace(r'\\d+(\\.\\d+)?', 'numbers')\n"
     ]
    },
    {
     "data": {
      "text/plain": "         label                                            subject  \\\n0     non-spam                            conference announcement   \n1         spam                                 life without debt    \n2         spam  do want the best and economical hunting vacati...   \n3     non-spam                            query  uninflected tags   \n4     non-spam                                 no accent allowed    \n...        ...                                                ...   \n2886  non-spam  program  info  workshop on comparative slavic ...   \n2887  non-spam             tsdnumbers   numbersrd call for papers   \n2888  non-spam                       sla conference paris numbers   \n2891  non-spam                    honored by two keynote speakers   \n2892  non-spam                                           typology   \n\n                                              main_body  \n0                          first announcement       ...  \n1     pardon the intrusion  no offence is meant  if ...  \n2     if you want the best hunting and camping vacat...  \n3     does anybody know of recent work on uninflecte...  \n4     has anybody else seen a weird piece in a newsp...  \n...                                                 ...  \n2886  workshop on comparative slavic morphosyntax pr...  \n2887                                                ...  \n2888  call for papers xi th international conference...  \n2891  international conference on natural language p...  \n2892  we would like to bring to your attention recen...  \n\n[2597 rows x 3 columns]",
      "text/html": "<div>\n<style scoped>\n    .dataframe tbody tr th:only-of-type {\n        vertical-align: middle;\n    }\n\n    .dataframe tbody tr th {\n        vertical-align: top;\n    }\n\n    .dataframe thead th {\n        text-align: right;\n    }\n</style>\n<table border=\"1\" class=\"dataframe\">\n  <thead>\n    <tr style=\"text-align: right;\">\n      <th></th>\n      <th>label</th>\n      <th>subject</th>\n      <th>main_body</th>\n    </tr>\n  </thead>\n  <tbody>\n    <tr>\n      <th>0</th>\n      <td>non-spam</td>\n      <td>conference announcement</td>\n      <td>first announcement       ...</td>\n    </tr>\n    <tr>\n      <th>1</th>\n      <td>spam</td>\n      <td>life without debt</td>\n      <td>pardon the intrusion  no offence is meant  if ...</td>\n    </tr>\n    <tr>\n      <th>2</th>\n      <td>spam</td>\n      <td>do want the best and economical hunting vacati...</td>\n      <td>if you want the best hunting and camping vacat...</td>\n    </tr>\n    <tr>\n      <th>3</th>\n      <td>non-spam</td>\n      <td>query  uninflected tags</td>\n      <td>does anybody know of recent work on uninflecte...</td>\n    </tr>\n    <tr>\n      <th>4</th>\n      <td>non-spam</td>\n      <td>no accent allowed</td>\n      <td>has anybody else seen a weird piece in a newsp...</td>\n    </tr>\n    <tr>\n      <th>...</th>\n      <td>...</td>\n      <td>...</td>\n      <td>...</td>\n    </tr>\n    <tr>\n      <th>2886</th>\n      <td>non-spam</td>\n      <td>program  info  workshop on comparative slavic ...</td>\n      <td>workshop on comparative slavic morphosyntax pr...</td>\n    </tr>\n    <tr>\n      <th>2887</th>\n      <td>non-spam</td>\n      <td>tsdnumbers   numbersrd call for papers</td>\n      <td>...</td>\n    </tr>\n    <tr>\n      <th>2888</th>\n      <td>non-spam</td>\n      <td>sla conference paris numbers</td>\n      <td>call for papers xi th international conference...</td>\n    </tr>\n    <tr>\n      <th>2891</th>\n      <td>non-spam</td>\n      <td>honored by two keynote speakers</td>\n      <td>international conference on natural language p...</td>\n    </tr>\n    <tr>\n      <th>2892</th>\n      <td>non-spam</td>\n      <td>typology</td>\n      <td>we would like to bring to your attention recen...</td>\n    </tr>\n  </tbody>\n</table>\n<p>2597 rows × 3 columns</p>\n</div>"
     },
     "execution_count": 7,
     "metadata": {},
     "output_type": "execute_result"
    }
   ],
   "source": [
    "'''\n",
    "Data Cleaning: Handling of Noisy Data\n",
    "\n",
    "noisy data -> meaningless data: all punctuations -> drop\n",
    "noisy data -> redundant data: repetitive data -> drop\n",
    "# REPLACING EMAIL IDs BY 'MAILID'\n",
    "# REPLACING URLs  BY 'Links'\n",
    "# REPLACING CURRENCY SIGNS BY 'MONEY'\n",
    "# REPLACINg NUMBERS by 'numbers'\n",
    "'''\n",
    "\n",
    "# drop all punctuations\n",
    "df['subject'] = df['subject'].str.replace(r'[^\\w\\s]', '', regex=True)\n",
    "df['main_body'] = df['main_body'].str.replace(r'[^\\w\\s]', '', regex=True)\n",
    "\n",
    "# drop repetitive data\n",
    "df.drop_duplicates(subset=[\"subject\"], inplace=True) # 可以删掉\n",
    "df.drop_duplicates(subset=[\"main_body\"], inplace=True)\n",
    "\n",
    "# replace email by 'MailID'\n",
    "df['subject']=df['subject'].str.replace(r'^.+@[^\\.].*\\.[a-z]{2,}$','MailID', regex=True) # 可以删掉\n",
    "df['main_body']=df['main_body'].str.replace(r'^.+@[^\\.].*\\.[a-z]{2,}$','MailID', regex=True)\n",
    "\n",
    "# replace links by 'Links'\n",
    "df['subject']=df['subject'].str.replace(r'^http\\://[a-zA-Z0-9\\-\\.]+\\.[a-zA-Z]{2,3}(/\\S*)?$','Links', regex=True) # 可以删掉\n",
    "df['main_body']=df['main_body'].str.replace(r'^http\\://[a-zA-Z0-9\\-\\.]+\\.[a-zA-Z]{2,3}(/\\S*)?$','Links', regex=True)\n",
    "\n",
    "# replace currency by 'money'\n",
    "df['subject']=df['subject'].str.replace(r'£|\\$', 'money', regex=True)\n",
    "df['main_body']=df['main_body'].str.replace(r'£|\\$', 'money', regex=True)\n",
    "\n",
    "# replace numbers by 'numbers'\n",
    "df['subject']=df['subject'].str.replace(r'\\d+(\\.\\d+)?', 'numbers')\n",
    "df['main_body']=df['main_body'].str.replace(r'\\d+(\\.\\d+)?', 'numbers')\n",
    "\n",
    "df"
   ],
   "metadata": {
    "id": "wRz__hVWelFA",
    "outputId": "3c73bc96-fd3a-4987-b25b-f035776de56c"
   }
  },
  {
   "cell_type": "code",
   "execution_count": 8,
   "outputs": [
    {
     "data": {
      "text/plain": "         label                                            subject  \\\n0     non-spam                            conference announcement   \n1         spam                                 life without debt    \n2         spam  do want the best and economical hunting vacati...   \n3     non-spam                             query uninflected tags   \n4     non-spam                                 no accent allowed    \n...        ...                                                ...   \n2886  non-spam  program info workshop on comparative slavic mo...   \n2887  non-spam               tsdnumbers numbersrd call for papers   \n2888  non-spam                       sla conference paris numbers   \n2891  non-spam                    honored by two keynote speakers   \n2892  non-spam                                           typology   \n\n                                              main_body  \n0      first announcement groningen assembly on lang...  \n1     pardon the intrusion no offence is meant if yo...  \n2     if you want the best hunting and camping vacat...  \n3     does anybody know of recent work on uninflecte...  \n4     has anybody else seen a weird piece in a newsp...  \n...                                                 ...  \n2886  workshop on comparative slavic morphosyntax pr...  \n2887   please pay attention deadline for submissions...  \n2888  call for papers xi th international conference...  \n2891  international conference on natural language p...  \n2892  we would like to bring to your attention recen...  \n\n[2597 rows x 3 columns]",
      "text/html": "<div>\n<style scoped>\n    .dataframe tbody tr th:only-of-type {\n        vertical-align: middle;\n    }\n\n    .dataframe tbody tr th {\n        vertical-align: top;\n    }\n\n    .dataframe thead th {\n        text-align: right;\n    }\n</style>\n<table border=\"1\" class=\"dataframe\">\n  <thead>\n    <tr style=\"text-align: right;\">\n      <th></th>\n      <th>label</th>\n      <th>subject</th>\n      <th>main_body</th>\n    </tr>\n  </thead>\n  <tbody>\n    <tr>\n      <th>0</th>\n      <td>non-spam</td>\n      <td>conference announcement</td>\n      <td>first announcement groningen assembly on lang...</td>\n    </tr>\n    <tr>\n      <th>1</th>\n      <td>spam</td>\n      <td>life without debt</td>\n      <td>pardon the intrusion no offence is meant if yo...</td>\n    </tr>\n    <tr>\n      <th>2</th>\n      <td>spam</td>\n      <td>do want the best and economical hunting vacati...</td>\n      <td>if you want the best hunting and camping vacat...</td>\n    </tr>\n    <tr>\n      <th>3</th>\n      <td>non-spam</td>\n      <td>query uninflected tags</td>\n      <td>does anybody know of recent work on uninflecte...</td>\n    </tr>\n    <tr>\n      <th>4</th>\n      <td>non-spam</td>\n      <td>no accent allowed</td>\n      <td>has anybody else seen a weird piece in a newsp...</td>\n    </tr>\n    <tr>\n      <th>...</th>\n      <td>...</td>\n      <td>...</td>\n      <td>...</td>\n    </tr>\n    <tr>\n      <th>2886</th>\n      <td>non-spam</td>\n      <td>program info workshop on comparative slavic mo...</td>\n      <td>workshop on comparative slavic morphosyntax pr...</td>\n    </tr>\n    <tr>\n      <th>2887</th>\n      <td>non-spam</td>\n      <td>tsdnumbers numbersrd call for papers</td>\n      <td>please pay attention deadline for submissions...</td>\n    </tr>\n    <tr>\n      <th>2888</th>\n      <td>non-spam</td>\n      <td>sla conference paris numbers</td>\n      <td>call for papers xi th international conference...</td>\n    </tr>\n    <tr>\n      <th>2891</th>\n      <td>non-spam</td>\n      <td>honored by two keynote speakers</td>\n      <td>international conference on natural language p...</td>\n    </tr>\n    <tr>\n      <th>2892</th>\n      <td>non-spam</td>\n      <td>typology</td>\n      <td>we would like to bring to your attention recen...</td>\n    </tr>\n  </tbody>\n</table>\n<p>2597 rows × 3 columns</p>\n</div>"
     },
     "execution_count": 8,
     "metadata": {},
     "output_type": "execute_result"
    }
   ],
   "source": [
    "'''\n",
    "Data Cleaning: Handling of Inconsistent Data\n",
    "\n",
    "lowercase / uppercase -> all lowercase\n",
    "# REPLACING NEXT LINES BY 'WHITE SPACE'\n",
    "# REPLACING LARGE WHITE SPACE BY SINGLE WHITE SPACE\n",
    "# REPLACING LEADING AND TRAILING WHITE SPACE BY SINGLE WHITE SPACE\n",
    "# REPLACING SPECIAL CHARACTERS  BY WHITE SPACE\n",
    "'''\n",
    "\n",
    "# convert to lowercase\n",
    "df['subject']=df['subject'].str.lower()\n",
    "df['main_body']=df['main_body'].str.lower()\n",
    "\n",
    "# replace special characters by white space\n",
    "df['subject']=df['subject'].str.replace(r\"[^a-zA-Z0-9]+\", \" \", regex=True)\n",
    "df['main_body']=df['main_body'].str.replace(r\"[^a-zA-Z0-9]+\", \" \", regex=True)\n",
    "\n",
    "# replace leading and trailing white space by single white space\n",
    "df['subject']=df['subject'].str.replace(r'^\\s+|\\s+?$', ' ', regex=True)\n",
    "df['main_body']=df['main_body'].str.replace(r'^\\s+|\\s+?$', ' ', regex=True)\n",
    "\n",
    "# replace next line by white space\n",
    "df['subject']=df['subject'].str.replace(r'\\n',\" \", regex=True)\n",
    "df['main_body']=df['main_body'].str.replace(r'\\n',\" \", regex=True)\n",
    "\n",
    "# 这个要放最后\n",
    "# replace large white space by single white space\n",
    "df['subject']=df['subject'].str.replace(r'\\s+', ' ', regex=True)\n",
    "df['main_body']=df['main_body'].str.replace(r'\\s+', ' ', regex=True)\n",
    "\n",
    "df"
   ],
   "metadata": {
    "id": "IPHepPBAelFB",
    "outputId": "c349f955-929b-4a01-b8c5-49813637b7a4"
   }
  },
  {
   "cell_type": "code",
   "execution_count": 9,
   "outputs": [
    {
     "data": {
      "text/plain": "         label                                            subject  length  \\\n0     non-spam                            conference announcement    1278   \n1         spam                                 life without debt     1658   \n2         spam  do want the best and economical hunting vacati...     592   \n3     non-spam                             query uninflected tags     266   \n4     non-spam                                 no accent allowed     1371   \n...        ...                                                ...     ...   \n2886  non-spam  program info workshop on comparative slavic mo...   11168   \n2887  non-spam               tsdnumbers numbersrd call for papers    6044   \n2888  non-spam                       sla conference paris numbers    2034   \n2891  non-spam                    honored by two keynote speakers    1879   \n2892  non-spam                                           typology    5248   \n\n                                              main_body  \n0      first announcement groningen assembly on lang...  \n1     pardon the intrusion no offence is meant if yo...  \n2     if you want the best hunting and camping vacat...  \n3     does anybody know of recent work on uninflecte...  \n4     has anybody else seen a weird piece in a newsp...  \n...                                                 ...  \n2886  workshop on comparative slavic morphosyntax pr...  \n2887   please pay attention deadline for submissions...  \n2888  call for papers xi th international conference...  \n2891  international conference on natural language p...  \n2892  we would like to bring to your attention recen...  \n\n[2596 rows x 4 columns]",
      "text/html": "<div>\n<style scoped>\n    .dataframe tbody tr th:only-of-type {\n        vertical-align: middle;\n    }\n\n    .dataframe tbody tr th {\n        vertical-align: top;\n    }\n\n    .dataframe thead th {\n        text-align: right;\n    }\n</style>\n<table border=\"1\" class=\"dataframe\">\n  <thead>\n    <tr style=\"text-align: right;\">\n      <th></th>\n      <th>label</th>\n      <th>subject</th>\n      <th>length</th>\n      <th>main_body</th>\n    </tr>\n  </thead>\n  <tbody>\n    <tr>\n      <th>0</th>\n      <td>non-spam</td>\n      <td>conference announcement</td>\n      <td>1278</td>\n      <td>first announcement groningen assembly on lang...</td>\n    </tr>\n    <tr>\n      <th>1</th>\n      <td>spam</td>\n      <td>life without debt</td>\n      <td>1658</td>\n      <td>pardon the intrusion no offence is meant if yo...</td>\n    </tr>\n    <tr>\n      <th>2</th>\n      <td>spam</td>\n      <td>do want the best and economical hunting vacati...</td>\n      <td>592</td>\n      <td>if you want the best hunting and camping vacat...</td>\n    </tr>\n    <tr>\n      <th>3</th>\n      <td>non-spam</td>\n      <td>query uninflected tags</td>\n      <td>266</td>\n      <td>does anybody know of recent work on uninflecte...</td>\n    </tr>\n    <tr>\n      <th>4</th>\n      <td>non-spam</td>\n      <td>no accent allowed</td>\n      <td>1371</td>\n      <td>has anybody else seen a weird piece in a newsp...</td>\n    </tr>\n    <tr>\n      <th>...</th>\n      <td>...</td>\n      <td>...</td>\n      <td>...</td>\n      <td>...</td>\n    </tr>\n    <tr>\n      <th>2886</th>\n      <td>non-spam</td>\n      <td>program info workshop on comparative slavic mo...</td>\n      <td>11168</td>\n      <td>workshop on comparative slavic morphosyntax pr...</td>\n    </tr>\n    <tr>\n      <th>2887</th>\n      <td>non-spam</td>\n      <td>tsdnumbers numbersrd call for papers</td>\n      <td>6044</td>\n      <td>please pay attention deadline for submissions...</td>\n    </tr>\n    <tr>\n      <th>2888</th>\n      <td>non-spam</td>\n      <td>sla conference paris numbers</td>\n      <td>2034</td>\n      <td>call for papers xi th international conference...</td>\n    </tr>\n    <tr>\n      <th>2891</th>\n      <td>non-spam</td>\n      <td>honored by two keynote speakers</td>\n      <td>1879</td>\n      <td>international conference on natural language p...</td>\n    </tr>\n    <tr>\n      <th>2892</th>\n      <td>non-spam</td>\n      <td>typology</td>\n      <td>5248</td>\n      <td>we would like to bring to your attention recen...</td>\n    </tr>\n  </tbody>\n</table>\n<p>2596 rows × 4 columns</p>\n</div>"
     },
     "execution_count": 9,
     "metadata": {},
     "output_type": "execute_result"
    }
   ],
   "source": [
    "# 在完成后续的操作以后可能原本不是空的main body会变成空\n",
    "# 所以可能需要再次处理\n",
    "df[\"subject\"].replace(\" \", np.nan, inplace=True)\n",
    "df[\"main_body\"].replace(\" \", np.nan, inplace=True)\n",
    "\n",
    "df[\"subject\"].fillna(\"missing\", inplace=True)\n",
    "df.dropna(subset=[\"main_body\"], inplace=True)\n",
    "\n",
    "df.insert(len(df.columns)-1, 'length', df['main_body'].apply(len))\n",
    "\n",
    "df"
   ],
   "metadata": {
    "id": "TKvHQ66mj4f9",
    "outputId": "6f86cc00-9768-4ea0-fc10-3953db85caa2"
   }
  },
  {
   "cell_type": "code",
   "execution_count": 10,
   "outputs": [],
   "source": [
    "# df.to_csv(\"cleaned_data.csv\", index=False)"
   ],
   "metadata": {
    "id": "aMQY3sQlj4f-"
   }
  },
  {
   "cell_type": "markdown",
   "source": [
    "## Data Transformation"
   ],
   "metadata": {
    "id": "dPyKfsZfkiGF"
   }
  },
  {
   "cell_type": "code",
   "source": [
    "# import nltk\n",
    "# nltk.download('wordnet')\n",
    "# nltk.download('omw-1.4')"
   ],
   "metadata": {
    "id": "5yuJ-Ay9kP8T"
   },
   "execution_count": 11,
   "outputs": []
  },
  {
   "cell_type": "code",
   "execution_count": 12,
   "outputs": [],
   "source": [
    "from nltk.corpus import stopwords\n",
    "from nltk.stem import WordNetLemmatizer\n",
    "\n",
    "# removing stopwords\n",
    "stop = stopwords.words('english')\n",
    "df['subject'] = df['subject'].apply(lambda x: ' '.join([word for word in x.split() if word not in (stop)]))\n",
    "df['main_body'] = df['main_body'].apply(lambda x: ' '.join([word for word in x.split() if word not in (stop)]))\n",
    "\n",
    "# Apply lemmatization\n",
    "lemm = WordNetLemmatizer()\n",
    "df['subject'] = df['subject'].apply(lambda x: ' '.join([lemm.lemmatize(word, pos=\"v\") for word in x.split()]))\n",
    "df['main_body'] = df['main_body'].apply(lambda x: ' '.join([lemm.lemmatize(word, pos=\"v\") for word in x.split()]))\n"
   ],
   "metadata": {
    "id": "TTWbRe4uelFD"
   }
  },
  {
   "cell_type": "code",
   "execution_count": 13,
   "outputs": [],
   "source": [
    "df[\"label\"].replace(\"non-spam\", 0, inplace=True)\n",
    "df[\"label\"].replace(\"spam\", 1, inplace=True)"
   ],
   "metadata": {
    "collapsed": false
   }
  },
  {
   "cell_type": "code",
   "source": [
    "# To see the change in text length after removing stop words\n",
    "df['length']=df['main_body'].apply(len)\n",
    "df"
   ],
   "metadata": {
    "id": "UiCSpfPrlWLH",
    "outputId": "0fe333ac-0abd-4a18-f881-df830758f3d7"
   },
   "execution_count": 14,
   "outputs": [
    {
     "data": {
      "text/plain": "      label                                            subject  length  \\\n0         0                            conference announcement    1064   \n1         1                                  life without debt    1185   \n2         1            want best economical hunt vacation life     445   \n3         0                              query uninflected tag     190   \n4         0                                       accent allow    1004   \n...     ...                                                ...     ...   \n2886      0  program info workshop comparative slavic morph...    8525   \n2887      0                    tsdnumbers numbersrd call paper    4713   \n2888      0                        sla conference paris number    1720   \n2891      0                         honor two keynote speakers    1677   \n2892      0                                           typology    4165   \n\n                                              main_body  \n0     first announcement groningen assembly language...  \n1     pardon intrusion offence mean interest simply ...  \n2     want best hunt camp vacation life come felton ...  \n3     anybody know recent work uninflected tag like ...  \n4     anybody else see weird piece newspaper read su...  \n...                                                 ...  \n2886  workshop comparative slavic morphosyntax progr...  \n2887  please pay attention deadline submissions may ...  \n2888  call paper xi th international conference acqu...  \n2891  international conference natural language proc...  \n2892  would like bring attention recent publications...  \n\n[2596 rows x 4 columns]",
      "text/html": "<div>\n<style scoped>\n    .dataframe tbody tr th:only-of-type {\n        vertical-align: middle;\n    }\n\n    .dataframe tbody tr th {\n        vertical-align: top;\n    }\n\n    .dataframe thead th {\n        text-align: right;\n    }\n</style>\n<table border=\"1\" class=\"dataframe\">\n  <thead>\n    <tr style=\"text-align: right;\">\n      <th></th>\n      <th>label</th>\n      <th>subject</th>\n      <th>length</th>\n      <th>main_body</th>\n    </tr>\n  </thead>\n  <tbody>\n    <tr>\n      <th>0</th>\n      <td>0</td>\n      <td>conference announcement</td>\n      <td>1064</td>\n      <td>first announcement groningen assembly language...</td>\n    </tr>\n    <tr>\n      <th>1</th>\n      <td>1</td>\n      <td>life without debt</td>\n      <td>1185</td>\n      <td>pardon intrusion offence mean interest simply ...</td>\n    </tr>\n    <tr>\n      <th>2</th>\n      <td>1</td>\n      <td>want best economical hunt vacation life</td>\n      <td>445</td>\n      <td>want best hunt camp vacation life come felton ...</td>\n    </tr>\n    <tr>\n      <th>3</th>\n      <td>0</td>\n      <td>query uninflected tag</td>\n      <td>190</td>\n      <td>anybody know recent work uninflected tag like ...</td>\n    </tr>\n    <tr>\n      <th>4</th>\n      <td>0</td>\n      <td>accent allow</td>\n      <td>1004</td>\n      <td>anybody else see weird piece newspaper read su...</td>\n    </tr>\n    <tr>\n      <th>...</th>\n      <td>...</td>\n      <td>...</td>\n      <td>...</td>\n      <td>...</td>\n    </tr>\n    <tr>\n      <th>2886</th>\n      <td>0</td>\n      <td>program info workshop comparative slavic morph...</td>\n      <td>8525</td>\n      <td>workshop comparative slavic morphosyntax progr...</td>\n    </tr>\n    <tr>\n      <th>2887</th>\n      <td>0</td>\n      <td>tsdnumbers numbersrd call paper</td>\n      <td>4713</td>\n      <td>please pay attention deadline submissions may ...</td>\n    </tr>\n    <tr>\n      <th>2888</th>\n      <td>0</td>\n      <td>sla conference paris number</td>\n      <td>1720</td>\n      <td>call paper xi th international conference acqu...</td>\n    </tr>\n    <tr>\n      <th>2891</th>\n      <td>0</td>\n      <td>honor two keynote speakers</td>\n      <td>1677</td>\n      <td>international conference natural language proc...</td>\n    </tr>\n    <tr>\n      <th>2892</th>\n      <td>0</td>\n      <td>typology</td>\n      <td>4165</td>\n      <td>would like bring attention recent publications...</td>\n    </tr>\n  </tbody>\n</table>\n<p>2596 rows × 4 columns</p>\n</div>"
     },
     "execution_count": 14,
     "metadata": {},
     "output_type": "execute_result"
    }
   ]
  },
  {
   "cell_type": "code",
   "execution_count": 15,
   "outputs": [],
   "source": [
    "# 更正由于drop stop words导致的空值\n",
    "df['subject']=df['subject'].str.replace(r'\\s+', ' ', regex=True)\n",
    "df['main_body']=df['main_body'].str.replace(r'\\s+', ' ', regex=True)\n",
    "\n",
    "df[\"subject\"].replace(\" \", np.nan, inplace=True)\n",
    "df[\"main_body\"].replace(\" \", np.nan, inplace=True)\n",
    "\n",
    "df[\"subject\"].fillna(\"missing\", inplace=True)\n",
    "df.dropna(subset=[\"main_body\"], inplace=True)"
   ],
   "metadata": {
    "id": "I-_K1rsselFE"
   }
  },
  {
   "cell_type": "code",
   "execution_count": 16,
   "outputs": [],
   "source": [
    "# df.to_csv(\"removedstop_cleaned_data.csv\", index=False)"
   ],
   "metadata": {
    "id": "SAWeOR-UelFE"
   }
  },
  {
   "cell_type": "code",
   "source": [
    "from sklearn.feature_extraction.text import TfidfVectorizer\n",
    "vectorizer = TfidfVectorizer()\n",
    "vectors = vectorizer.fit_transform(df['main_body'])\n",
    "df1 = pd.DataFrame(vectors.toarray(), columns=vectorizer.get_feature_names_out())\n",
    "df1"
   ],
   "metadata": {
    "id": "kekL7p5Flc7A",
    "outputId": "bd441dfd-e999-440c-c9df-b6c42d239afc"
   },
   "execution_count": 17,
   "outputs": [
    {
     "data": {
      "text/plain": "       aa  aaa  aaai  aaainumbers  aaal  aaanumbers  aaarghh  aaas  aabb  \\\n0     0.0  0.0   0.0          0.0   0.0         0.0      0.0   0.0   0.0   \n1     0.0  0.0   0.0          0.0   0.0         0.0      0.0   0.0   0.0   \n2     0.0  0.0   0.0          0.0   0.0         0.0      0.0   0.0   0.0   \n3     0.0  0.0   0.0          0.0   0.0         0.0      0.0   0.0   0.0   \n4     0.0  0.0   0.0          0.0   0.0         0.0      0.0   0.0   0.0   \n...   ...  ...   ...          ...   ...         ...      ...   ...   ...   \n2591  0.0  0.0   0.0          0.0   0.0         0.0      0.0   0.0   0.0   \n2592  0.0  0.0   0.0          0.0   0.0         0.0      0.0   0.0   0.0   \n2593  0.0  0.0   0.0          0.0   0.0         0.0      0.0   0.0   0.0   \n2594  0.0  0.0   0.0          0.0   0.0         0.0      0.0   0.0   0.0   \n2595  0.0  0.0   0.0          0.0   0.0         0.0      0.0   0.0   0.0   \n\n      aabyhoej  ...  zwischen  zwitserlood  zxgahnumbersqabjh  zybatov  \\\n0          0.0  ...       0.0          0.0                0.0      0.0   \n1          0.0  ...       0.0          0.0                0.0      0.0   \n2          0.0  ...       0.0          0.0                0.0      0.0   \n3          0.0  ...       0.0          0.0                0.0      0.0   \n4          0.0  ...       0.0          0.0                0.0      0.0   \n...        ...  ...       ...          ...                ...      ...   \n2591       0.0  ...       0.0          0.0                0.0      0.0   \n2592       0.0  ...       0.0          0.0                0.0      0.0   \n2593       0.0  ...       0.0          0.0                0.0      0.0   \n2594       0.0  ...       0.0          0.0                0.0      0.0   \n2595       0.0  ...       0.0          0.0                0.0      0.0   \n\n      zybatow  zygmunt  zyokyoozyu  zytkow  zzlsa  zznumbers  \n0         0.0      0.0         0.0     0.0    0.0        0.0  \n1         0.0      0.0         0.0     0.0    0.0        0.0  \n2         0.0      0.0         0.0     0.0    0.0        0.0  \n3         0.0      0.0         0.0     0.0    0.0        0.0  \n4         0.0      0.0         0.0     0.0    0.0        0.0  \n...       ...      ...         ...     ...    ...        ...  \n2591      0.0      0.0         0.0     0.0    0.0        0.0  \n2592      0.0      0.0         0.0     0.0    0.0        0.0  \n2593      0.0      0.0         0.0     0.0    0.0        0.0  \n2594      0.0      0.0         0.0     0.0    0.0        0.0  \n2595      0.0      0.0         0.0     0.0    0.0        0.0  \n\n[2596 rows x 51294 columns]",
      "text/html": "<div>\n<style scoped>\n    .dataframe tbody tr th:only-of-type {\n        vertical-align: middle;\n    }\n\n    .dataframe tbody tr th {\n        vertical-align: top;\n    }\n\n    .dataframe thead th {\n        text-align: right;\n    }\n</style>\n<table border=\"1\" class=\"dataframe\">\n  <thead>\n    <tr style=\"text-align: right;\">\n      <th></th>\n      <th>aa</th>\n      <th>aaa</th>\n      <th>aaai</th>\n      <th>aaainumbers</th>\n      <th>aaal</th>\n      <th>aaanumbers</th>\n      <th>aaarghh</th>\n      <th>aaas</th>\n      <th>aabb</th>\n      <th>aabyhoej</th>\n      <th>...</th>\n      <th>zwischen</th>\n      <th>zwitserlood</th>\n      <th>zxgahnumbersqabjh</th>\n      <th>zybatov</th>\n      <th>zybatow</th>\n      <th>zygmunt</th>\n      <th>zyokyoozyu</th>\n      <th>zytkow</th>\n      <th>zzlsa</th>\n      <th>zznumbers</th>\n    </tr>\n  </thead>\n  <tbody>\n    <tr>\n      <th>0</th>\n      <td>0.0</td>\n      <td>0.0</td>\n      <td>0.0</td>\n      <td>0.0</td>\n      <td>0.0</td>\n      <td>0.0</td>\n      <td>0.0</td>\n      <td>0.0</td>\n      <td>0.0</td>\n      <td>0.0</td>\n      <td>...</td>\n      <td>0.0</td>\n      <td>0.0</td>\n      <td>0.0</td>\n      <td>0.0</td>\n      <td>0.0</td>\n      <td>0.0</td>\n      <td>0.0</td>\n      <td>0.0</td>\n      <td>0.0</td>\n      <td>0.0</td>\n    </tr>\n    <tr>\n      <th>1</th>\n      <td>0.0</td>\n      <td>0.0</td>\n      <td>0.0</td>\n      <td>0.0</td>\n      <td>0.0</td>\n      <td>0.0</td>\n      <td>0.0</td>\n      <td>0.0</td>\n      <td>0.0</td>\n      <td>0.0</td>\n      <td>...</td>\n      <td>0.0</td>\n      <td>0.0</td>\n      <td>0.0</td>\n      <td>0.0</td>\n      <td>0.0</td>\n      <td>0.0</td>\n      <td>0.0</td>\n      <td>0.0</td>\n      <td>0.0</td>\n      <td>0.0</td>\n    </tr>\n    <tr>\n      <th>2</th>\n      <td>0.0</td>\n      <td>0.0</td>\n      <td>0.0</td>\n      <td>0.0</td>\n      <td>0.0</td>\n      <td>0.0</td>\n      <td>0.0</td>\n      <td>0.0</td>\n      <td>0.0</td>\n      <td>0.0</td>\n      <td>...</td>\n      <td>0.0</td>\n      <td>0.0</td>\n      <td>0.0</td>\n      <td>0.0</td>\n      <td>0.0</td>\n      <td>0.0</td>\n      <td>0.0</td>\n      <td>0.0</td>\n      <td>0.0</td>\n      <td>0.0</td>\n    </tr>\n    <tr>\n      <th>3</th>\n      <td>0.0</td>\n      <td>0.0</td>\n      <td>0.0</td>\n      <td>0.0</td>\n      <td>0.0</td>\n      <td>0.0</td>\n      <td>0.0</td>\n      <td>0.0</td>\n      <td>0.0</td>\n      <td>0.0</td>\n      <td>...</td>\n      <td>0.0</td>\n      <td>0.0</td>\n      <td>0.0</td>\n      <td>0.0</td>\n      <td>0.0</td>\n      <td>0.0</td>\n      <td>0.0</td>\n      <td>0.0</td>\n      <td>0.0</td>\n      <td>0.0</td>\n    </tr>\n    <tr>\n      <th>4</th>\n      <td>0.0</td>\n      <td>0.0</td>\n      <td>0.0</td>\n      <td>0.0</td>\n      <td>0.0</td>\n      <td>0.0</td>\n      <td>0.0</td>\n      <td>0.0</td>\n      <td>0.0</td>\n      <td>0.0</td>\n      <td>...</td>\n      <td>0.0</td>\n      <td>0.0</td>\n      <td>0.0</td>\n      <td>0.0</td>\n      <td>0.0</td>\n      <td>0.0</td>\n      <td>0.0</td>\n      <td>0.0</td>\n      <td>0.0</td>\n      <td>0.0</td>\n    </tr>\n    <tr>\n      <th>...</th>\n      <td>...</td>\n      <td>...</td>\n      <td>...</td>\n      <td>...</td>\n      <td>...</td>\n      <td>...</td>\n      <td>...</td>\n      <td>...</td>\n      <td>...</td>\n      <td>...</td>\n      <td>...</td>\n      <td>...</td>\n      <td>...</td>\n      <td>...</td>\n      <td>...</td>\n      <td>...</td>\n      <td>...</td>\n      <td>...</td>\n      <td>...</td>\n      <td>...</td>\n      <td>...</td>\n    </tr>\n    <tr>\n      <th>2591</th>\n      <td>0.0</td>\n      <td>0.0</td>\n      <td>0.0</td>\n      <td>0.0</td>\n      <td>0.0</td>\n      <td>0.0</td>\n      <td>0.0</td>\n      <td>0.0</td>\n      <td>0.0</td>\n      <td>0.0</td>\n      <td>...</td>\n      <td>0.0</td>\n      <td>0.0</td>\n      <td>0.0</td>\n      <td>0.0</td>\n      <td>0.0</td>\n      <td>0.0</td>\n      <td>0.0</td>\n      <td>0.0</td>\n      <td>0.0</td>\n      <td>0.0</td>\n    </tr>\n    <tr>\n      <th>2592</th>\n      <td>0.0</td>\n      <td>0.0</td>\n      <td>0.0</td>\n      <td>0.0</td>\n      <td>0.0</td>\n      <td>0.0</td>\n      <td>0.0</td>\n      <td>0.0</td>\n      <td>0.0</td>\n      <td>0.0</td>\n      <td>...</td>\n      <td>0.0</td>\n      <td>0.0</td>\n      <td>0.0</td>\n      <td>0.0</td>\n      <td>0.0</td>\n      <td>0.0</td>\n      <td>0.0</td>\n      <td>0.0</td>\n      <td>0.0</td>\n      <td>0.0</td>\n    </tr>\n    <tr>\n      <th>2593</th>\n      <td>0.0</td>\n      <td>0.0</td>\n      <td>0.0</td>\n      <td>0.0</td>\n      <td>0.0</td>\n      <td>0.0</td>\n      <td>0.0</td>\n      <td>0.0</td>\n      <td>0.0</td>\n      <td>0.0</td>\n      <td>...</td>\n      <td>0.0</td>\n      <td>0.0</td>\n      <td>0.0</td>\n      <td>0.0</td>\n      <td>0.0</td>\n      <td>0.0</td>\n      <td>0.0</td>\n      <td>0.0</td>\n      <td>0.0</td>\n      <td>0.0</td>\n    </tr>\n    <tr>\n      <th>2594</th>\n      <td>0.0</td>\n      <td>0.0</td>\n      <td>0.0</td>\n      <td>0.0</td>\n      <td>0.0</td>\n      <td>0.0</td>\n      <td>0.0</td>\n      <td>0.0</td>\n      <td>0.0</td>\n      <td>0.0</td>\n      <td>...</td>\n      <td>0.0</td>\n      <td>0.0</td>\n      <td>0.0</td>\n      <td>0.0</td>\n      <td>0.0</td>\n      <td>0.0</td>\n      <td>0.0</td>\n      <td>0.0</td>\n      <td>0.0</td>\n      <td>0.0</td>\n    </tr>\n    <tr>\n      <th>2595</th>\n      <td>0.0</td>\n      <td>0.0</td>\n      <td>0.0</td>\n      <td>0.0</td>\n      <td>0.0</td>\n      <td>0.0</td>\n      <td>0.0</td>\n      <td>0.0</td>\n      <td>0.0</td>\n      <td>0.0</td>\n      <td>...</td>\n      <td>0.0</td>\n      <td>0.0</td>\n      <td>0.0</td>\n      <td>0.0</td>\n      <td>0.0</td>\n      <td>0.0</td>\n      <td>0.0</td>\n      <td>0.0</td>\n      <td>0.0</td>\n      <td>0.0</td>\n    </tr>\n  </tbody>\n</table>\n<p>2596 rows × 51294 columns</p>\n</div>"
     },
     "execution_count": 17,
     "metadata": {},
     "output_type": "execute_result"
    }
   ]
  },
  {
   "cell_type": "code",
   "source": [
    "from sklearn.decomposition import TruncatedSVD\n",
    "\n",
    "# n_components must be between 1 and min(vectors.shape)\n",
    "svd = TruncatedSVD(n_components=1750)\n",
    "svd.fit(vectors)\n",
    "print(svd.explained_variance_ratio_.sum())"
   ],
   "metadata": {
    "id": "ywwUAB9uliXg",
    "outputId": "0aa6b66c-4b5b-4731-f902-3cd95b34452d"
   },
   "execution_count": 18,
   "outputs": [
    {
     "name": "stdout",
     "output_type": "stream",
     "text": [
      "0.9094155209372285\n"
     ]
    }
   ]
  },
  {
   "cell_type": "code",
   "source": [
    "transformed_vectors = svd.transform(vectors)\n",
    "print(transformed_vectors)\n",
    "print(\"dimension =\", transformed_vectors.shape)"
   ],
   "metadata": {
    "id": "D4bbVs7qlllW",
    "outputId": "5c2474e7-eb55-4fe8-8c08-0506cd28ad11"
   },
   "execution_count": 19,
   "outputs": [
    {
     "name": "stdout",
     "output_type": "stream",
     "text": [
      "[[ 0.3235188  -0.11384781 -0.10775049 ... -0.00148819  0.02941262\n",
      "   0.01164898]\n",
      " [ 0.54133209  0.20575653 -0.01323978 ...  0.00275652 -0.02705823\n",
      "   0.00963445]\n",
      " [ 0.24963267  0.09978495 -0.02807455 ...  0.00708554  0.00638969\n",
      "  -0.00694212]\n",
      " ...\n",
      " [ 0.43857174 -0.02093592 -0.12930816 ... -0.00166616 -0.01800198\n",
      "   0.0143673 ]\n",
      " [ 0.25545052 -0.04690687 -0.08369325 ... -0.02536018  0.0254644\n",
      "   0.00808318]\n",
      " [ 0.41436435 -0.01639936  0.00129983 ... -0.0076103  -0.01239285\n",
      "   0.02306745]]\n",
      "dimension = (2596, 1750)\n"
     ]
    }
   ]
  },
  {
   "cell_type": "code",
   "execution_count": 20,
   "outputs": [
    {
     "data": {
      "text/plain": "          0         1         2         3         4         5         6     \\\n0     0.323519 -0.113848 -0.107750  0.030892 -0.057147 -0.006141 -0.049097   \n1     0.541332  0.205757 -0.013240  0.021064 -0.059343 -0.014257  0.025846   \n2     0.249633  0.099785 -0.028075 -0.011970 -0.023579  0.026146 -0.005913   \n3     0.030223 -0.021128  0.100462 -0.011657  0.000726 -0.024053  0.002939   \n4     0.189612 -0.049302  0.064732 -0.053181 -0.061634 -0.064175  0.017099   \n...        ...       ...       ...       ...       ...       ...       ...   \n2591  0.558124  0.058706 -0.120592 -0.008570 -0.094630 -0.013373  0.028327   \n2592  0.283135 -0.117495 -0.034985  0.120626  0.045321  0.009844  0.085793   \n2593  0.438572 -0.020936 -0.129308  0.027597  0.063673 -0.061608  0.028273   \n2594  0.255451 -0.046907 -0.083693 -0.038572  0.181689 -0.124315  0.107780   \n2595  0.414364 -0.016399  0.001300 -0.190070  0.029553  0.246874 -0.085758   \n\n          7         8         9     ...      1740      1741      1742  \\\n0    -0.006113  0.022331 -0.021330  ...  0.017594  0.012692  0.001337   \n1     0.007105 -0.003030  0.025589  ... -0.014973  0.001058 -0.008091   \n2     0.000554 -0.033448  0.026775  ... -0.005065 -0.010637  0.002477   \n3     0.010541 -0.060843  0.019402  ... -0.004293 -0.013815 -0.002729   \n4     0.074334 -0.024842 -0.029952  ...  0.010825  0.003985  0.005618   \n...        ...       ...       ...  ...       ...       ...       ...   \n2591 -0.010855 -0.054237  0.007673  ... -0.020961  0.012311  0.008305   \n2592 -0.080928 -0.010419  0.009684  ...  0.003081 -0.001757  0.000101   \n2593 -0.066322 -0.008901  0.060160  ...  0.037381 -0.005318 -0.016037   \n2594  0.095599 -0.029179  0.119886  ... -0.001266  0.034060  0.012894   \n2595 -0.105980  0.020170 -0.071412  ... -0.009523 -0.000753  0.019939   \n\n          1743      1744      1745      1746      1747      1748      1749  \n0     0.002228 -0.003556  0.002288  0.021670 -0.001488  0.029413  0.011649  \n1     0.001481 -0.001230  0.001848  0.006813  0.002757 -0.027058  0.009634  \n2     0.002285 -0.001155 -0.002448  0.011024  0.007086  0.006390 -0.006942  \n3     0.001363  0.010512 -0.003686  0.002318  0.008946 -0.005303 -0.016980  \n4    -0.001504 -0.002591 -0.001335 -0.002472  0.002951  0.016384  0.001335  \n...        ...       ...       ...       ...       ...       ...       ...  \n2591 -0.013383  0.000932  0.006082 -0.010764  0.005768  0.000815 -0.009673  \n2592 -0.000401 -0.001053 -0.001151 -0.000540  0.001087  0.000318 -0.000388  \n2593  0.024279 -0.026322  0.026765 -0.006663 -0.001666 -0.018002  0.014367  \n2594  0.004322 -0.005833 -0.024874 -0.006152 -0.025360  0.025464  0.008083  \n2595  0.019627  0.001911  0.001697  0.004295 -0.007610 -0.012393  0.023067  \n\n[2596 rows x 1750 columns]",
      "text/html": "<div>\n<style scoped>\n    .dataframe tbody tr th:only-of-type {\n        vertical-align: middle;\n    }\n\n    .dataframe tbody tr th {\n        vertical-align: top;\n    }\n\n    .dataframe thead th {\n        text-align: right;\n    }\n</style>\n<table border=\"1\" class=\"dataframe\">\n  <thead>\n    <tr style=\"text-align: right;\">\n      <th></th>\n      <th>0</th>\n      <th>1</th>\n      <th>2</th>\n      <th>3</th>\n      <th>4</th>\n      <th>5</th>\n      <th>6</th>\n      <th>7</th>\n      <th>8</th>\n      <th>9</th>\n      <th>...</th>\n      <th>1740</th>\n      <th>1741</th>\n      <th>1742</th>\n      <th>1743</th>\n      <th>1744</th>\n      <th>1745</th>\n      <th>1746</th>\n      <th>1747</th>\n      <th>1748</th>\n      <th>1749</th>\n    </tr>\n  </thead>\n  <tbody>\n    <tr>\n      <th>0</th>\n      <td>0.323519</td>\n      <td>-0.113848</td>\n      <td>-0.107750</td>\n      <td>0.030892</td>\n      <td>-0.057147</td>\n      <td>-0.006141</td>\n      <td>-0.049097</td>\n      <td>-0.006113</td>\n      <td>0.022331</td>\n      <td>-0.021330</td>\n      <td>...</td>\n      <td>0.017594</td>\n      <td>0.012692</td>\n      <td>0.001337</td>\n      <td>0.002228</td>\n      <td>-0.003556</td>\n      <td>0.002288</td>\n      <td>0.021670</td>\n      <td>-0.001488</td>\n      <td>0.029413</td>\n      <td>0.011649</td>\n    </tr>\n    <tr>\n      <th>1</th>\n      <td>0.541332</td>\n      <td>0.205757</td>\n      <td>-0.013240</td>\n      <td>0.021064</td>\n      <td>-0.059343</td>\n      <td>-0.014257</td>\n      <td>0.025846</td>\n      <td>0.007105</td>\n      <td>-0.003030</td>\n      <td>0.025589</td>\n      <td>...</td>\n      <td>-0.014973</td>\n      <td>0.001058</td>\n      <td>-0.008091</td>\n      <td>0.001481</td>\n      <td>-0.001230</td>\n      <td>0.001848</td>\n      <td>0.006813</td>\n      <td>0.002757</td>\n      <td>-0.027058</td>\n      <td>0.009634</td>\n    </tr>\n    <tr>\n      <th>2</th>\n      <td>0.249633</td>\n      <td>0.099785</td>\n      <td>-0.028075</td>\n      <td>-0.011970</td>\n      <td>-0.023579</td>\n      <td>0.026146</td>\n      <td>-0.005913</td>\n      <td>0.000554</td>\n      <td>-0.033448</td>\n      <td>0.026775</td>\n      <td>...</td>\n      <td>-0.005065</td>\n      <td>-0.010637</td>\n      <td>0.002477</td>\n      <td>0.002285</td>\n      <td>-0.001155</td>\n      <td>-0.002448</td>\n      <td>0.011024</td>\n      <td>0.007086</td>\n      <td>0.006390</td>\n      <td>-0.006942</td>\n    </tr>\n    <tr>\n      <th>3</th>\n      <td>0.030223</td>\n      <td>-0.021128</td>\n      <td>0.100462</td>\n      <td>-0.011657</td>\n      <td>0.000726</td>\n      <td>-0.024053</td>\n      <td>0.002939</td>\n      <td>0.010541</td>\n      <td>-0.060843</td>\n      <td>0.019402</td>\n      <td>...</td>\n      <td>-0.004293</td>\n      <td>-0.013815</td>\n      <td>-0.002729</td>\n      <td>0.001363</td>\n      <td>0.010512</td>\n      <td>-0.003686</td>\n      <td>0.002318</td>\n      <td>0.008946</td>\n      <td>-0.005303</td>\n      <td>-0.016980</td>\n    </tr>\n    <tr>\n      <th>4</th>\n      <td>0.189612</td>\n      <td>-0.049302</td>\n      <td>0.064732</td>\n      <td>-0.053181</td>\n      <td>-0.061634</td>\n      <td>-0.064175</td>\n      <td>0.017099</td>\n      <td>0.074334</td>\n      <td>-0.024842</td>\n      <td>-0.029952</td>\n      <td>...</td>\n      <td>0.010825</td>\n      <td>0.003985</td>\n      <td>0.005618</td>\n      <td>-0.001504</td>\n      <td>-0.002591</td>\n      <td>-0.001335</td>\n      <td>-0.002472</td>\n      <td>0.002951</td>\n      <td>0.016384</td>\n      <td>0.001335</td>\n    </tr>\n    <tr>\n      <th>...</th>\n      <td>...</td>\n      <td>...</td>\n      <td>...</td>\n      <td>...</td>\n      <td>...</td>\n      <td>...</td>\n      <td>...</td>\n      <td>...</td>\n      <td>...</td>\n      <td>...</td>\n      <td>...</td>\n      <td>...</td>\n      <td>...</td>\n      <td>...</td>\n      <td>...</td>\n      <td>...</td>\n      <td>...</td>\n      <td>...</td>\n      <td>...</td>\n      <td>...</td>\n      <td>...</td>\n    </tr>\n    <tr>\n      <th>2591</th>\n      <td>0.558124</td>\n      <td>0.058706</td>\n      <td>-0.120592</td>\n      <td>-0.008570</td>\n      <td>-0.094630</td>\n      <td>-0.013373</td>\n      <td>0.028327</td>\n      <td>-0.010855</td>\n      <td>-0.054237</td>\n      <td>0.007673</td>\n      <td>...</td>\n      <td>-0.020961</td>\n      <td>0.012311</td>\n      <td>0.008305</td>\n      <td>-0.013383</td>\n      <td>0.000932</td>\n      <td>0.006082</td>\n      <td>-0.010764</td>\n      <td>0.005768</td>\n      <td>0.000815</td>\n      <td>-0.009673</td>\n    </tr>\n    <tr>\n      <th>2592</th>\n      <td>0.283135</td>\n      <td>-0.117495</td>\n      <td>-0.034985</td>\n      <td>0.120626</td>\n      <td>0.045321</td>\n      <td>0.009844</td>\n      <td>0.085793</td>\n      <td>-0.080928</td>\n      <td>-0.010419</td>\n      <td>0.009684</td>\n      <td>...</td>\n      <td>0.003081</td>\n      <td>-0.001757</td>\n      <td>0.000101</td>\n      <td>-0.000401</td>\n      <td>-0.001053</td>\n      <td>-0.001151</td>\n      <td>-0.000540</td>\n      <td>0.001087</td>\n      <td>0.000318</td>\n      <td>-0.000388</td>\n    </tr>\n    <tr>\n      <th>2593</th>\n      <td>0.438572</td>\n      <td>-0.020936</td>\n      <td>-0.129308</td>\n      <td>0.027597</td>\n      <td>0.063673</td>\n      <td>-0.061608</td>\n      <td>0.028273</td>\n      <td>-0.066322</td>\n      <td>-0.008901</td>\n      <td>0.060160</td>\n      <td>...</td>\n      <td>0.037381</td>\n      <td>-0.005318</td>\n      <td>-0.016037</td>\n      <td>0.024279</td>\n      <td>-0.026322</td>\n      <td>0.026765</td>\n      <td>-0.006663</td>\n      <td>-0.001666</td>\n      <td>-0.018002</td>\n      <td>0.014367</td>\n    </tr>\n    <tr>\n      <th>2594</th>\n      <td>0.255451</td>\n      <td>-0.046907</td>\n      <td>-0.083693</td>\n      <td>-0.038572</td>\n      <td>0.181689</td>\n      <td>-0.124315</td>\n      <td>0.107780</td>\n      <td>0.095599</td>\n      <td>-0.029179</td>\n      <td>0.119886</td>\n      <td>...</td>\n      <td>-0.001266</td>\n      <td>0.034060</td>\n      <td>0.012894</td>\n      <td>0.004322</td>\n      <td>-0.005833</td>\n      <td>-0.024874</td>\n      <td>-0.006152</td>\n      <td>-0.025360</td>\n      <td>0.025464</td>\n      <td>0.008083</td>\n    </tr>\n    <tr>\n      <th>2595</th>\n      <td>0.414364</td>\n      <td>-0.016399</td>\n      <td>0.001300</td>\n      <td>-0.190070</td>\n      <td>0.029553</td>\n      <td>0.246874</td>\n      <td>-0.085758</td>\n      <td>-0.105980</td>\n      <td>0.020170</td>\n      <td>-0.071412</td>\n      <td>...</td>\n      <td>-0.009523</td>\n      <td>-0.000753</td>\n      <td>0.019939</td>\n      <td>0.019627</td>\n      <td>0.001911</td>\n      <td>0.001697</td>\n      <td>0.004295</td>\n      <td>-0.007610</td>\n      <td>-0.012393</td>\n      <td>0.023067</td>\n    </tr>\n  </tbody>\n</table>\n<p>2596 rows × 1750 columns</p>\n</div>"
     },
     "execution_count": 20,
     "metadata": {},
     "output_type": "execute_result"
    }
   ],
   "source": [
    "# 降维后的\n",
    "df1 = pd.DataFrame(transformed_vectors)\n",
    "df1"
   ],
   "metadata": {
    "collapsed": false
   }
  },
  {
   "cell_type": "code",
   "source": [
    "'''# https://mccormickml.com/2019/05/14/BERT-word-embeddings-tutorial/\n",
    "from transformers import BertModel,BertTokenizer\n",
    "import torch\n",
    "\n",
    "bert_model = BertModel.from_pretrained('bert-base-uncased', output_hidden_states = True)\n",
    "bert_tokenizer = BertTokenizer.from_pretrained('bert-base-uncased')\n",
    "\n",
    "def get_bert_embeddings(text, model, tokenizer):\n",
    "\n",
    "    marked_text = \"[CLS] \" + text + \" [SEP]\"\n",
    "    tokenized_text = tokenizer.tokenize(marked_text)\n",
    "    indexed_tokens = tokenizer.convert_tokens_to_ids(tokenized_text)\n",
    "    segments_ids = [1]*len(indexed_tokens)\n",
    "\n",
    "    # convert inputs to tensors\n",
    "    tokens_tensor = torch.tensor([indexed_tokens])\n",
    "    segments_tensor = torch.tensor([segments_ids])\n",
    "\n",
    "    with torch.no_grad():\n",
    "        # obtain hidden states\n",
    "        outputs = model(tokens_tensor, segments_tensor)\n",
    "        hidden_states = outputs[2]\n",
    "\n",
    "    # `token_vecs` is a tensor with shape [22 x 768]\n",
    "    token_vecs = hidden_states[-2][0]\n",
    "\n",
    "    # Calculate the average of all 22 token vectors.\n",
    "    sentence_embedding = torch.mean(token_vecs, dim=0)\n",
    "\n",
    "    return sentence_embedding'''"
   ],
   "metadata": {
    "id": "P71sJvnwPxNl"
   },
   "execution_count": 21,
   "outputs": [
    {
     "data": {
      "text/plain": "'# https://mccormickml.com/2019/05/14/BERT-word-embeddings-tutorial/\\nfrom transformers import BertModel,BertTokenizer\\nimport torch\\n\\nbert_model = BertModel.from_pretrained(\\'bert-base-uncased\\', output_hidden_states = True)\\nbert_tokenizer = BertTokenizer.from_pretrained(\\'bert-base-uncased\\')\\n\\ndef get_bert_embeddings(text, model, tokenizer):\\n\\n    marked_text = \"[CLS] \" + text + \" [SEP]\"\\n    tokenized_text = tokenizer.tokenize(marked_text)\\n    indexed_tokens = tokenizer.convert_tokens_to_ids(tokenized_text)\\n    segments_ids = [1]*len(indexed_tokens)\\n\\n    # convert inputs to tensors\\n    tokens_tensor = torch.tensor([indexed_tokens])\\n    segments_tensor = torch.tensor([segments_ids])\\n\\n    with torch.no_grad():\\n        # obtain hidden states\\n        outputs = model(tokens_tensor, segments_tensor)\\n        hidden_states = outputs[2]\\n\\n    # `token_vecs` is a tensor with shape [22 x 768]\\n    token_vecs = hidden_states[-2][0]\\n\\n    # Calculate the average of all 22 token vectors.\\n    sentence_embedding = torch.mean(token_vecs, dim=0)\\n\\n    return sentence_embedding'"
     },
     "execution_count": 21,
     "metadata": {},
     "output_type": "execute_result"
    }
   ]
  },
  {
   "cell_type": "code",
   "source": [
    "# 如果需要做word vectors的话\n",
    "\"\"\"\n",
    "def get_bert_word_vectors(text, model, tokenizer):\n",
    "\n",
    "    marked_text = \"[CLS] \" + text + \" [SEP]\"\n",
    "    tokenized_text = tokenizer.tokenize(marked_text)\n",
    "    indexed_tokens = tokenizer.convert_tokens_to_ids(tokenized_text)\n",
    "    segments_ids = [1]*len(indexed_tokens)\n",
    "\n",
    "    # convert inputs to tensors\n",
    "    tokens_tensor = torch.tensor([indexed_tokens])\n",
    "    segments_tensor = torch.tensor([segments_ids])\n",
    "    \n",
    "    with torch.no_grad():\n",
    "        # obtain hidden states\n",
    "        outputs = model(tokens_tensor, segments_tensor)\n",
    "        hidden_states = outputs[2]\n",
    "\n",
    "    # concatenate the tensors for all layers\n",
    "    # use \"stack\" to create new dimension in tensor\n",
    "    token_embeddings = torch.stack(hidden_states, dim=0)\n",
    "\n",
    "    # # remove dimension 1, the \"batches\"\n",
    "    token_embeddings = torch.squeeze(token_embeddings, dim=1)\n",
    "\n",
    "    # # swap dimensions 0 and 1 so we can loop over tokens\n",
    "    token_embeddings = token_embeddings.permute(1,0,2)\n",
    "\n",
    "    # # intialized list to store embeddings\n",
    "    token_vecs_sum = []\n",
    "\n",
    "    # # \"token_embeddings\" is a [Y x 12 x 768] tensor\n",
    "    # # where Y is the number of tokens in the sentence\n",
    "\n",
    "    # # loop over tokens in sentence\n",
    "    for token in token_embeddings:\n",
    "\n",
    "        # \"token\" is a [12 x 768] tensor\n",
    "\n",
    "        # sum the vectors from the last four layers\n",
    "        sum_vec = torch.sum(token[-4:], dim=0)\n",
    "        token_vecs_sum.append(sum_vec)\n",
    "\n",
    "    return token_vecs_sum\n",
    "\"\"\""
   ],
   "metadata": {
    "id": "Ci_sCozO4xuu"
   },
   "execution_count": 22,
   "outputs": [
    {
     "data": {
      "text/plain": "'\\ndef get_bert_word_vectors(text, model, tokenizer):\\n\\n    marked_text = \"[CLS] \" + text + \" [SEP]\"\\n    tokenized_text = tokenizer.tokenize(marked_text)\\n    indexed_tokens = tokenizer.convert_tokens_to_ids(tokenized_text)\\n    segments_ids = [1]*len(indexed_tokens)\\n\\n    # convert inputs to tensors\\n    tokens_tensor = torch.tensor([indexed_tokens])\\n    segments_tensor = torch.tensor([segments_ids])\\n    \\n    with torch.no_grad():\\n        # obtain hidden states\\n        outputs = model(tokens_tensor, segments_tensor)\\n        hidden_states = outputs[2]\\n\\n    # concatenate the tensors for all layers\\n    # use \"stack\" to create new dimension in tensor\\n    token_embeddings = torch.stack(hidden_states, dim=0)\\n\\n    # # remove dimension 1, the \"batches\"\\n    token_embeddings = torch.squeeze(token_embeddings, dim=1)\\n\\n    # # swap dimensions 0 and 1 so we can loop over tokens\\n    token_embeddings = token_embeddings.permute(1,0,2)\\n\\n    # # intialized list to store embeddings\\n    token_vecs_sum = []\\n\\n    # # \"token_embeddings\" is a [Y x 12 x 768] tensor\\n    # # where Y is the number of tokens in the sentence\\n\\n    # # loop over tokens in sentence\\n    for token in token_embeddings:\\n\\n        # \"token\" is a [12 x 768] tensor\\n\\n        # sum the vectors from the last four layers\\n        sum_vec = torch.sum(token[-4:], dim=0)\\n        token_vecs_sum.append(sum_vec)\\n\\n    return token_vecs_sum\\n'"
     },
     "execution_count": 22,
     "metadata": {},
     "output_type": "execute_result"
    }
   ]
  },
  {
   "cell_type": "code",
   "source": [
    "'''# Bert Embedding 前510字 （能运行）\n",
    "df['truncated'] = df['main_body'].apply(lambda x: x[:510] if len(x)>510 else x)\n",
    "df['bert_embedding'] = df['truncated'].apply(lambda x: get_bert_embeddings(x, bert_model, bert_tokenizer))'''"
   ],
   "metadata": {
    "id": "HhmbW-e-ROqO"
   },
   "execution_count": 23,
   "outputs": [
    {
     "data": {
      "text/plain": "\"# Bert Embedding 前510字 （能运行）\\ndf['truncated'] = df['main_body'].apply(lambda x: x[:510] if len(x)>510 else x)\\ndf['bert_embedding'] = df['truncated'].apply(lambda x: get_bert_embeddings(x, bert_model, bert_tokenizer))\""
     },
     "execution_count": 23,
     "metadata": {},
     "output_type": "execute_result"
    }
   ]
  },
  {
   "cell_type": "code",
   "source": [
    "# 网上找的几种方法 但都经常报错（运行整个dataframe时）\n",
    "\n",
    "# 1 https://huggingface.co/facebook/bart-large-cnn\n",
    "\"\"\"\n",
    "from transformers import pipeline\n",
    "\n",
    "summarizer = pipeline(\"summarization\", model=\"facebook/bart-large-cnn\")\n",
    "text = df['main_body'][3]\n",
    "summary = summarizer(text, max_length=510, min_length=50, do_sample=False)[0]['summary_text']\n",
    "print(summary)\n",
    "print(len(summary))\n",
    "\n",
    "df['summary'] = df['main_body'].apply(lambda x: summarizer(x, max_length=510, min_length=50, do_sample=False)[0]['summary_text'] if len(x)>510 else x)\n",
    "\"\"\"\n",
    "\n",
    "# 2 https://github.com/christianversloot/machine-learning-articles/blob/main/transformers-for-long-text-code-examples-with-longformer.md\n",
    "\"\"\"\n",
    "from transformers import LongformerTokenizer, EncoderDecoderModel\n",
    "\n",
    "# Load model and tokenizer\n",
    "long_model = EncoderDecoderModel.from_pretrained(\"patrickvonplaten/longformer2roberta-cnn_dailymail-fp16\")\n",
    "long_tokenizer = LongformerTokenizer.from_pretrained(\"allenai/longformer-base-4096\") \n",
    "\n",
    "def get_summary(text, model, tokenizer):\n",
    "\n",
    "    # Tokenize and summarize\n",
    "    input_ids = tokenizer(text, return_tensors=\"pt\").input_ids\n",
    "    output_ids = model.generate(input_ids)\n",
    "\n",
    "    # Get the summary from the output tokens\n",
    "    summary = tokenizer.decode(output_ids[0], skip_special_tokens=True)\n",
    "    \n",
    "    return summary\n",
    "\n",
    "df['summary'] = df['main_body'].apply(lambda x: get_summary(x, long_model, long_tokenizer) if len(x)>510 else x)   \n",
    "\"\"\"\n",
    "\n",
    "# https://towardsdatascience.com/text-summarization-with-nlp-textrank-vs-seq2seq-vs-bart-474943efeb09"
   ],
   "metadata": {
    "id": "6D8nvab559NB"
   },
   "execution_count": 24,
   "outputs": [
    {
     "data": {
      "text/plain": "'\\nfrom transformers import LongformerTokenizer, EncoderDecoderModel\\n\\n# Load model and tokenizer\\nlong_model = EncoderDecoderModel.from_pretrained(\"patrickvonplaten/longformer2roberta-cnn_dailymail-fp16\")\\nlong_tokenizer = LongformerTokenizer.from_pretrained(\"allenai/longformer-base-4096\") \\n\\ndef get_summary(text, model, tokenizer):\\n\\n    # Tokenize and summarize\\n    input_ids = tokenizer(text, return_tensors=\"pt\").input_ids\\n    output_ids = model.generate(input_ids)\\n\\n    # Get the summary from the output tokens\\n    summary = tokenizer.decode(output_ids[0], skip_special_tokens=True)\\n    \\n    return summary\\n\\ndf[\\'summary\\'] = df[\\'main_body\\'].apply(lambda x: get_summary(x, long_model, long_tokenizer) if len(x)>510 else x)   \\n'"
     },
     "execution_count": 24,
     "metadata": {},
     "output_type": "execute_result"
    }
   ]
  },
  {
   "cell_type": "code",
   "source": [
    "# 试了word2vec 但df3里面的vector维度都不一样\n",
    "# 也试了下doc2vec 也不行\n",
    "# 有兴趣可以看下 https://towardsdatascience.com/how-to-vectorize-text-in-dataframes-for-nlp-tasks-3-simple-techniques-82925a5600db\n",
    "\"\"\"\n",
    "import gensim\n",
    "from nltk.tokenize import word_tokenize\n",
    "\n",
    "# Tokenize the text in the column\n",
    "df['tokenized_text'] = df['main_body'].apply(lambda x: word_tokenize(x))\n",
    "\n",
    "model = gensim.models.Word2Vec(df['tokenized_text'], vector_size=5000, window=5, min_count=1, workers=4)\n",
    "\n",
    "df['embedding_vectors'] = df['tokenized_text'].apply(lambda x: [model.wv[word] for word in x])\n",
    "\n",
    "df3 = pd.DataFrame(df['embedding_vectors'].tolist())\n",
    "df3\n",
    "\"\"\""
   ],
   "metadata": {
    "id": "ei19T9aHAOQj"
   },
   "execution_count": 25,
   "outputs": [
    {
     "data": {
      "text/plain": "\"\\nimport gensim\\nfrom nltk.tokenize import word_tokenize\\n\\n# Tokenize the text in the column\\ndf['tokenized_text'] = df['main_body'].apply(lambda x: word_tokenize(x))\\n\\nmodel = gensim.models.Word2Vec(df['tokenized_text'], vector_size=5000, window=5, min_count=1, workers=4)\\n\\ndf['embedding_vectors'] = df['tokenized_text'].apply(lambda x: [model.wv[word] for word in x])\\n\\ndf3 = pd.DataFrame(df['embedding_vectors'].tolist())\\ndf3\\n\""
     },
     "execution_count": 25,
     "metadata": {},
     "output_type": "execute_result"
    }
   ]
  },
  {
   "cell_type": "markdown",
   "source": [
    "Bag of Words "
   ],
   "metadata": {
    "id": "AANSjbcK-HU3"
   }
  },
  {
   "cell_type": "code",
   "source": [
    "# Count how many times a word appears in the dataset\n",
    "\n",
    "from collections import Counter\n",
    "\n",
    "total_counts = Counter()\n",
    "for i in range(len(df['main_body'])):\n",
    "    for word in df['main_body'].values[i].split(\" \"):\n",
    "        total_counts[word] += 1\n",
    "\n",
    "print(\"Total words in transformed df: \", len(total_counts))"
   ],
   "metadata": {
    "id": "X7AfCnvN-FCk"
   },
   "execution_count": 26,
   "outputs": [
    {
     "name": "stdout",
     "output_type": "stream",
     "text": [
      "Total words in transformed df:  51312\n"
     ]
    }
   ]
  },
  {
   "cell_type": "code",
   "source": [
    "# Sort in decreasing order (Word with highest frequency appears first)\n",
    "vocab = sorted(total_counts, key=total_counts.get, reverse=True)\n",
    "print('Top 30 words: ', '\\n', vocab[:31])"
   ],
   "metadata": {
    "id": "qvEDc-oi-FUP"
   },
   "execution_count": 27,
   "outputs": [
    {
     "name": "stdout",
     "output_type": "stream",
     "text": [
      "Top 30 words:  \n",
      " ['number', 'university', 'language', 'paper', 'email', 'information', 'linguistics', 'address', 'use', 'de', 'one', 'conference', 'send', 'e', 'order', 'please', 'make', 'languages', 'english', 'include', 'work', 'mail', 'http', 'program', 'also', 'edu', 'new', 'would', 'name', 'may', 'fax']\n"
     ]
    }
   ]
  },
  {
   "cell_type": "code",
   "source": [
    "# Map words to index\n",
    "vocab_size = len(vocab)\n",
    "word2idx = {}\n",
    "\n",
    "# print vocab_size\n",
    "for i, word in enumerate(vocab):\n",
    "    word2idx[word] = i"
   ],
   "metadata": {
    "id": "xTjS-3w0-Fas"
   },
   "execution_count": 28,
   "outputs": []
  },
  {
   "cell_type": "code",
   "source": [
    "# Define a function to convert text to vectors\n",
    "def text_to_vector(text, vocab):\n",
    "    vector = np.zeros(len(vocab), dtype=np.int_)\n",
    "    for word in text.split():\n",
    "        if word in vocab:\n",
    "            index = vocab.index(word)\n",
    "            vector[index] += 1\n",
    "    return vector\n",
    "\n",
    "# Convert all text to vectors\n",
    "word_vectors = np.zeros((len(df['main_body']), len(vocab)), dtype=np.int_)\n",
    "\n",
    "for i, text in enumerate(df['main_body']):\n",
    "    word_vectors[i] = text_to_vector(text, vocab)\n",
    "    \n",
    "word_vectors.shape"
   ],
   "metadata": {
    "id": "uPgtnJsA-Fe2"
   },
   "execution_count": 29,
   "outputs": [
    {
     "data": {
      "text/plain": "(2596, 51312)"
     },
     "execution_count": 29,
     "metadata": {},
     "output_type": "execute_result"
    }
   ]
  },
  {
   "cell_type": "code",
   "source": [
    "# convert transformed vectors to dataframe to visualize\n",
    "\n",
    "df2 = pd.DataFrame(word_vectors, columns=vocab)\n",
    "df2"
   ],
   "metadata": {
    "id": "B-Q9ZzwR-Fkl"
   },
   "execution_count": 30,
   "outputs": [
    {
     "data": {
      "text/plain": "      number  university  language  paper  email  information  linguistics  \\\n0         13           6         3      1      1            1            2   \n1         36           0         0      0      0            1            0   \n2         13           0         0      0      0            0            0   \n3          0           0         0      0      0            0            0   \n4          8           1         1      1      0            0            2   \n...      ...         ...       ...    ...    ...          ...          ...   \n2591     158          37         0      9      4            4            1   \n2592      36           5         3      7      9            1            0   \n2593      35           0         2      5      2            1            0   \n2594      18           1         5      0      1            0            0   \n2595      49           5        10      0      4            3            0   \n\n      address  use  de  ...  singledialect  corpuses  undescribed  cech  \\\n0           0    0   0  ...              0         0            0     0   \n1           1    0   0  ...              0         0            0     0   \n2           0    0   0  ...              0         0            0     0   \n3           0    0   0  ...              0         0            0     0   \n4           0    0   0  ...              0         0            0     0   \n...       ...  ...  ..  ...            ...       ...          ...   ...   \n2591        1    1   0  ...              0         0            0     0   \n2592        5    0   0  ...              0         0            0     0   \n2593        1    1   1  ...              0         0            0     0   \n2594        0    0   5  ...              0         0            0     0   \n2595        2    2   0  ...              1         1            1     1   \n\n      viktor  elsik  mozes  heinschink  hubschmannova  igla  \n0          0      0      0           0              0     0  \n1          0      0      0           0              0     0  \n2          0      0      0           0              0     0  \n3          0      0      0           0              0     0  \n4          0      0      0           0              0     0  \n...      ...    ...    ...         ...            ...   ...  \n2591       0      0      0           0              0     0  \n2592       0      0      0           0              0     0  \n2593       0      0      0           0              0     0  \n2594       0      0      0           0              0     0  \n2595       1      1      1           1              1     1  \n\n[2596 rows x 51312 columns]",
      "text/html": "<div>\n<style scoped>\n    .dataframe tbody tr th:only-of-type {\n        vertical-align: middle;\n    }\n\n    .dataframe tbody tr th {\n        vertical-align: top;\n    }\n\n    .dataframe thead th {\n        text-align: right;\n    }\n</style>\n<table border=\"1\" class=\"dataframe\">\n  <thead>\n    <tr style=\"text-align: right;\">\n      <th></th>\n      <th>number</th>\n      <th>university</th>\n      <th>language</th>\n      <th>paper</th>\n      <th>email</th>\n      <th>information</th>\n      <th>linguistics</th>\n      <th>address</th>\n      <th>use</th>\n      <th>de</th>\n      <th>...</th>\n      <th>singledialect</th>\n      <th>corpuses</th>\n      <th>undescribed</th>\n      <th>cech</th>\n      <th>viktor</th>\n      <th>elsik</th>\n      <th>mozes</th>\n      <th>heinschink</th>\n      <th>hubschmannova</th>\n      <th>igla</th>\n    </tr>\n  </thead>\n  <tbody>\n    <tr>\n      <th>0</th>\n      <td>13</td>\n      <td>6</td>\n      <td>3</td>\n      <td>1</td>\n      <td>1</td>\n      <td>1</td>\n      <td>2</td>\n      <td>0</td>\n      <td>0</td>\n      <td>0</td>\n      <td>...</td>\n      <td>0</td>\n      <td>0</td>\n      <td>0</td>\n      <td>0</td>\n      <td>0</td>\n      <td>0</td>\n      <td>0</td>\n      <td>0</td>\n      <td>0</td>\n      <td>0</td>\n    </tr>\n    <tr>\n      <th>1</th>\n      <td>36</td>\n      <td>0</td>\n      <td>0</td>\n      <td>0</td>\n      <td>0</td>\n      <td>1</td>\n      <td>0</td>\n      <td>1</td>\n      <td>0</td>\n      <td>0</td>\n      <td>...</td>\n      <td>0</td>\n      <td>0</td>\n      <td>0</td>\n      <td>0</td>\n      <td>0</td>\n      <td>0</td>\n      <td>0</td>\n      <td>0</td>\n      <td>0</td>\n      <td>0</td>\n    </tr>\n    <tr>\n      <th>2</th>\n      <td>13</td>\n      <td>0</td>\n      <td>0</td>\n      <td>0</td>\n      <td>0</td>\n      <td>0</td>\n      <td>0</td>\n      <td>0</td>\n      <td>0</td>\n      <td>0</td>\n      <td>...</td>\n      <td>0</td>\n      <td>0</td>\n      <td>0</td>\n      <td>0</td>\n      <td>0</td>\n      <td>0</td>\n      <td>0</td>\n      <td>0</td>\n      <td>0</td>\n      <td>0</td>\n    </tr>\n    <tr>\n      <th>3</th>\n      <td>0</td>\n      <td>0</td>\n      <td>0</td>\n      <td>0</td>\n      <td>0</td>\n      <td>0</td>\n      <td>0</td>\n      <td>0</td>\n      <td>0</td>\n      <td>0</td>\n      <td>...</td>\n      <td>0</td>\n      <td>0</td>\n      <td>0</td>\n      <td>0</td>\n      <td>0</td>\n      <td>0</td>\n      <td>0</td>\n      <td>0</td>\n      <td>0</td>\n      <td>0</td>\n    </tr>\n    <tr>\n      <th>4</th>\n      <td>8</td>\n      <td>1</td>\n      <td>1</td>\n      <td>1</td>\n      <td>0</td>\n      <td>0</td>\n      <td>2</td>\n      <td>0</td>\n      <td>0</td>\n      <td>0</td>\n      <td>...</td>\n      <td>0</td>\n      <td>0</td>\n      <td>0</td>\n      <td>0</td>\n      <td>0</td>\n      <td>0</td>\n      <td>0</td>\n      <td>0</td>\n      <td>0</td>\n      <td>0</td>\n    </tr>\n    <tr>\n      <th>...</th>\n      <td>...</td>\n      <td>...</td>\n      <td>...</td>\n      <td>...</td>\n      <td>...</td>\n      <td>...</td>\n      <td>...</td>\n      <td>...</td>\n      <td>...</td>\n      <td>...</td>\n      <td>...</td>\n      <td>...</td>\n      <td>...</td>\n      <td>...</td>\n      <td>...</td>\n      <td>...</td>\n      <td>...</td>\n      <td>...</td>\n      <td>...</td>\n      <td>...</td>\n      <td>...</td>\n    </tr>\n    <tr>\n      <th>2591</th>\n      <td>158</td>\n      <td>37</td>\n      <td>0</td>\n      <td>9</td>\n      <td>4</td>\n      <td>4</td>\n      <td>1</td>\n      <td>1</td>\n      <td>1</td>\n      <td>0</td>\n      <td>...</td>\n      <td>0</td>\n      <td>0</td>\n      <td>0</td>\n      <td>0</td>\n      <td>0</td>\n      <td>0</td>\n      <td>0</td>\n      <td>0</td>\n      <td>0</td>\n      <td>0</td>\n    </tr>\n    <tr>\n      <th>2592</th>\n      <td>36</td>\n      <td>5</td>\n      <td>3</td>\n      <td>7</td>\n      <td>9</td>\n      <td>1</td>\n      <td>0</td>\n      <td>5</td>\n      <td>0</td>\n      <td>0</td>\n      <td>...</td>\n      <td>0</td>\n      <td>0</td>\n      <td>0</td>\n      <td>0</td>\n      <td>0</td>\n      <td>0</td>\n      <td>0</td>\n      <td>0</td>\n      <td>0</td>\n      <td>0</td>\n    </tr>\n    <tr>\n      <th>2593</th>\n      <td>35</td>\n      <td>0</td>\n      <td>2</td>\n      <td>5</td>\n      <td>2</td>\n      <td>1</td>\n      <td>0</td>\n      <td>1</td>\n      <td>1</td>\n      <td>1</td>\n      <td>...</td>\n      <td>0</td>\n      <td>0</td>\n      <td>0</td>\n      <td>0</td>\n      <td>0</td>\n      <td>0</td>\n      <td>0</td>\n      <td>0</td>\n      <td>0</td>\n      <td>0</td>\n    </tr>\n    <tr>\n      <th>2594</th>\n      <td>18</td>\n      <td>1</td>\n      <td>5</td>\n      <td>0</td>\n      <td>1</td>\n      <td>0</td>\n      <td>0</td>\n      <td>0</td>\n      <td>0</td>\n      <td>5</td>\n      <td>...</td>\n      <td>0</td>\n      <td>0</td>\n      <td>0</td>\n      <td>0</td>\n      <td>0</td>\n      <td>0</td>\n      <td>0</td>\n      <td>0</td>\n      <td>0</td>\n      <td>0</td>\n    </tr>\n    <tr>\n      <th>2595</th>\n      <td>49</td>\n      <td>5</td>\n      <td>10</td>\n      <td>0</td>\n      <td>4</td>\n      <td>3</td>\n      <td>0</td>\n      <td>2</td>\n      <td>2</td>\n      <td>0</td>\n      <td>...</td>\n      <td>1</td>\n      <td>1</td>\n      <td>1</td>\n      <td>1</td>\n      <td>1</td>\n      <td>1</td>\n      <td>1</td>\n      <td>1</td>\n      <td>1</td>\n      <td>1</td>\n    </tr>\n  </tbody>\n</table>\n<p>2596 rows × 51312 columns</p>\n</div>"
     },
     "execution_count": 30,
     "metadata": {},
     "output_type": "execute_result"
    }
   ]
  },
  {
   "cell_type": "code",
   "source": [
    "# apply SVD\n",
    "from sklearn.decomposition import TruncatedSVD\n",
    "\n",
    "# n_components must be between 1 and min(vectors.shape)\n",
    "svd = TruncatedSVD(n_components=500)\n",
    "svd.fit(word_vectors)\n",
    "print(svd.explained_variance_ratio_.sum()) #95%"
   ],
   "metadata": {
    "id": "jDkG6ypU-Fpi"
   },
   "execution_count": 31,
   "outputs": [
    {
     "name": "stdout",
     "output_type": "stream",
     "text": [
      "0.9510113095108915\n"
     ]
    }
   ]
  },
  {
   "cell_type": "code",
   "source": [
    "transformed_vectors = svd.transform(word_vectors)\n",
    "print(transformed_vectors)\n",
    "print(\"dimension =\", transformed_vectors.shape)"
   ],
   "metadata": {
    "id": "CMavljEA-Xsk"
   },
   "execution_count": 32,
   "outputs": [
    {
     "name": "stdout",
     "output_type": "stream",
     "text": [
      "[[ 1.37109776e+01 -3.28812491e+00  1.01686404e-02 ...  4.73000224e-02\n",
      "  -1.66638853e-01 -1.99931919e-01]\n",
      " [ 3.59186423e+01 -5.65145797e-01 -3.79417928e-01 ... -5.82838553e-02\n",
      "   2.24927139e-01  3.35802889e-01]\n",
      " [ 1.28994798e+01 -7.53032106e-01 -4.40158164e-02 ... -1.93931160e-01\n",
      "   1.89513220e-02 -1.79927485e-01]\n",
      " ...\n",
      " [ 3.53182755e+01 -3.60892096e+00 -8.15405263e-02 ... -3.78944576e-01\n",
      "  -1.61513433e-01 -7.26174244e-01]\n",
      " [ 1.87583132e+01 -3.81712881e+00  1.51511940e-01 ... -2.43252132e-01\n",
      "   1.38279155e-02  2.30029285e-01]\n",
      " [ 5.05553846e+01 -5.64882460e+00  1.30458971e+00 ... -9.78806387e-01\n",
      "  -3.99484227e-01 -4.49096036e-01]]\n",
      "dimension = (2596, 500)\n"
     ]
    }
   ]
  },
  {
   "cell_type": "code",
   "execution_count": 33,
   "outputs": [
    {
     "data": {
      "text/plain": "             0          1         2         3          4          5    \\\n0      13.710978  -3.288125  0.010169  3.118854  -1.771366  -2.182045   \n1      35.918642  -0.565146 -0.379418 -3.905108  -1.306191   1.046967   \n2      12.899480  -0.753032 -0.044016 -1.574052  -0.393521   0.717289   \n3       0.126565   0.497219 -0.028405  0.463633   0.161745   0.235655   \n4       8.459377  -0.293892 -0.138912  2.053423  -0.095933   0.963966   \n...          ...        ...       ...       ...        ...        ...   \n2591  160.056049 -21.477895 -0.578358 -3.588650 -13.737201 -10.723416   \n2592   38.523175  -2.051582  0.689642  8.999953  -2.769078  -9.959161   \n2593   35.318275  -3.608921 -0.081541  0.041269   0.507978  -1.716646   \n2594   18.758313  -3.817129  0.151512  1.971991   6.004395  -1.196212   \n2595   50.555385  -5.648825  1.304590  6.249240  -1.606102   4.960585   \n\n           6          7          8         9    ...       490       491  \\\n0    -0.743751  -2.730162  -0.877912  0.812125  ...  0.089010  0.166738   \n1     0.225118   1.469410   0.360801 -0.588404  ...  0.408197 -0.430447   \n2     0.224887   0.723840   0.138641  0.126723  ...  0.090377 -0.015672   \n3     0.040815   0.037720   0.306927  0.244349  ...  0.185046  0.003824   \n4    -0.318633  -0.736101  -0.030577  0.312204  ... -0.181959  0.104301   \n...        ...        ...        ...       ...  ...       ...       ...   \n2591 -3.170077 -11.644288  12.743010  7.841726  ...  0.327537 -0.485937   \n2592  1.447135   6.047701  -2.044883 -3.710199  ... -0.017703  0.165045   \n2593  0.292880   2.606521  -2.553619 -3.767196  ... -0.038194  0.226841   \n2594 -0.388405  -0.737272  -3.659581 -1.044254  ... -0.279443 -0.091588   \n2595  1.000938   2.544505  -3.716988  4.149089  ...  0.458984 -0.933398   \n\n           492       493       494       495       496       497       498  \\\n0     0.275391 -0.344769  0.056186 -0.031098  0.219015  0.047300 -0.166639   \n1    -0.263781 -0.668678 -0.170196  0.293822  0.473728 -0.058284  0.224927   \n2    -0.117824  0.089473 -0.176422 -0.218090  0.010349 -0.193931  0.018951   \n3     0.132163  0.037375 -0.132535  0.000431  0.020162  0.024718 -0.087763   \n4    -0.166674 -0.051179 -0.143612  0.140528  0.100650  0.117109  0.233194   \n...        ...       ...       ...       ...       ...       ...       ...   \n2591 -0.459877 -0.238527 -0.237071  0.597245  0.292746 -0.101323  0.163111   \n2592 -0.091712  0.151712 -0.042384  0.100602 -0.054378  0.132156  0.072245   \n2593 -0.324102 -0.314554 -0.583576 -0.321973  0.901066 -0.378945 -0.161513   \n2594 -0.205254 -0.438433  0.103915  0.316886  0.032708 -0.243252  0.013828   \n2595  0.698713  0.483534 -0.570287  0.244773 -1.227228 -0.978806 -0.399484   \n\n           499  \n0    -0.199932  \n1     0.335803  \n2    -0.179927  \n3     0.132604  \n4    -0.276326  \n...        ...  \n2591  0.458864  \n2592 -0.217967  \n2593 -0.726174  \n2594  0.230029  \n2595 -0.449096  \n\n[2596 rows x 500 columns]",
      "text/html": "<div>\n<style scoped>\n    .dataframe tbody tr th:only-of-type {\n        vertical-align: middle;\n    }\n\n    .dataframe tbody tr th {\n        vertical-align: top;\n    }\n\n    .dataframe thead th {\n        text-align: right;\n    }\n</style>\n<table border=\"1\" class=\"dataframe\">\n  <thead>\n    <tr style=\"text-align: right;\">\n      <th></th>\n      <th>0</th>\n      <th>1</th>\n      <th>2</th>\n      <th>3</th>\n      <th>4</th>\n      <th>5</th>\n      <th>6</th>\n      <th>7</th>\n      <th>8</th>\n      <th>9</th>\n      <th>...</th>\n      <th>490</th>\n      <th>491</th>\n      <th>492</th>\n      <th>493</th>\n      <th>494</th>\n      <th>495</th>\n      <th>496</th>\n      <th>497</th>\n      <th>498</th>\n      <th>499</th>\n    </tr>\n  </thead>\n  <tbody>\n    <tr>\n      <th>0</th>\n      <td>13.710978</td>\n      <td>-3.288125</td>\n      <td>0.010169</td>\n      <td>3.118854</td>\n      <td>-1.771366</td>\n      <td>-2.182045</td>\n      <td>-0.743751</td>\n      <td>-2.730162</td>\n      <td>-0.877912</td>\n      <td>0.812125</td>\n      <td>...</td>\n      <td>0.089010</td>\n      <td>0.166738</td>\n      <td>0.275391</td>\n      <td>-0.344769</td>\n      <td>0.056186</td>\n      <td>-0.031098</td>\n      <td>0.219015</td>\n      <td>0.047300</td>\n      <td>-0.166639</td>\n      <td>-0.199932</td>\n    </tr>\n    <tr>\n      <th>1</th>\n      <td>35.918642</td>\n      <td>-0.565146</td>\n      <td>-0.379418</td>\n      <td>-3.905108</td>\n      <td>-1.306191</td>\n      <td>1.046967</td>\n      <td>0.225118</td>\n      <td>1.469410</td>\n      <td>0.360801</td>\n      <td>-0.588404</td>\n      <td>...</td>\n      <td>0.408197</td>\n      <td>-0.430447</td>\n      <td>-0.263781</td>\n      <td>-0.668678</td>\n      <td>-0.170196</td>\n      <td>0.293822</td>\n      <td>0.473728</td>\n      <td>-0.058284</td>\n      <td>0.224927</td>\n      <td>0.335803</td>\n    </tr>\n    <tr>\n      <th>2</th>\n      <td>12.899480</td>\n      <td>-0.753032</td>\n      <td>-0.044016</td>\n      <td>-1.574052</td>\n      <td>-0.393521</td>\n      <td>0.717289</td>\n      <td>0.224887</td>\n      <td>0.723840</td>\n      <td>0.138641</td>\n      <td>0.126723</td>\n      <td>...</td>\n      <td>0.090377</td>\n      <td>-0.015672</td>\n      <td>-0.117824</td>\n      <td>0.089473</td>\n      <td>-0.176422</td>\n      <td>-0.218090</td>\n      <td>0.010349</td>\n      <td>-0.193931</td>\n      <td>0.018951</td>\n      <td>-0.179927</td>\n    </tr>\n    <tr>\n      <th>3</th>\n      <td>0.126565</td>\n      <td>0.497219</td>\n      <td>-0.028405</td>\n      <td>0.463633</td>\n      <td>0.161745</td>\n      <td>0.235655</td>\n      <td>0.040815</td>\n      <td>0.037720</td>\n      <td>0.306927</td>\n      <td>0.244349</td>\n      <td>...</td>\n      <td>0.185046</td>\n      <td>0.003824</td>\n      <td>0.132163</td>\n      <td>0.037375</td>\n      <td>-0.132535</td>\n      <td>0.000431</td>\n      <td>0.020162</td>\n      <td>0.024718</td>\n      <td>-0.087763</td>\n      <td>0.132604</td>\n    </tr>\n    <tr>\n      <th>4</th>\n      <td>8.459377</td>\n      <td>-0.293892</td>\n      <td>-0.138912</td>\n      <td>2.053423</td>\n      <td>-0.095933</td>\n      <td>0.963966</td>\n      <td>-0.318633</td>\n      <td>-0.736101</td>\n      <td>-0.030577</td>\n      <td>0.312204</td>\n      <td>...</td>\n      <td>-0.181959</td>\n      <td>0.104301</td>\n      <td>-0.166674</td>\n      <td>-0.051179</td>\n      <td>-0.143612</td>\n      <td>0.140528</td>\n      <td>0.100650</td>\n      <td>0.117109</td>\n      <td>0.233194</td>\n      <td>-0.276326</td>\n    </tr>\n    <tr>\n      <th>...</th>\n      <td>...</td>\n      <td>...</td>\n      <td>...</td>\n      <td>...</td>\n      <td>...</td>\n      <td>...</td>\n      <td>...</td>\n      <td>...</td>\n      <td>...</td>\n      <td>...</td>\n      <td>...</td>\n      <td>...</td>\n      <td>...</td>\n      <td>...</td>\n      <td>...</td>\n      <td>...</td>\n      <td>...</td>\n      <td>...</td>\n      <td>...</td>\n      <td>...</td>\n      <td>...</td>\n    </tr>\n    <tr>\n      <th>2591</th>\n      <td>160.056049</td>\n      <td>-21.477895</td>\n      <td>-0.578358</td>\n      <td>-3.588650</td>\n      <td>-13.737201</td>\n      <td>-10.723416</td>\n      <td>-3.170077</td>\n      <td>-11.644288</td>\n      <td>12.743010</td>\n      <td>7.841726</td>\n      <td>...</td>\n      <td>0.327537</td>\n      <td>-0.485937</td>\n      <td>-0.459877</td>\n      <td>-0.238527</td>\n      <td>-0.237071</td>\n      <td>0.597245</td>\n      <td>0.292746</td>\n      <td>-0.101323</td>\n      <td>0.163111</td>\n      <td>0.458864</td>\n    </tr>\n    <tr>\n      <th>2592</th>\n      <td>38.523175</td>\n      <td>-2.051582</td>\n      <td>0.689642</td>\n      <td>8.999953</td>\n      <td>-2.769078</td>\n      <td>-9.959161</td>\n      <td>1.447135</td>\n      <td>6.047701</td>\n      <td>-2.044883</td>\n      <td>-3.710199</td>\n      <td>...</td>\n      <td>-0.017703</td>\n      <td>0.165045</td>\n      <td>-0.091712</td>\n      <td>0.151712</td>\n      <td>-0.042384</td>\n      <td>0.100602</td>\n      <td>-0.054378</td>\n      <td>0.132156</td>\n      <td>0.072245</td>\n      <td>-0.217967</td>\n    </tr>\n    <tr>\n      <th>2593</th>\n      <td>35.318275</td>\n      <td>-3.608921</td>\n      <td>-0.081541</td>\n      <td>0.041269</td>\n      <td>0.507978</td>\n      <td>-1.716646</td>\n      <td>0.292880</td>\n      <td>2.606521</td>\n      <td>-2.553619</td>\n      <td>-3.767196</td>\n      <td>...</td>\n      <td>-0.038194</td>\n      <td>0.226841</td>\n      <td>-0.324102</td>\n      <td>-0.314554</td>\n      <td>-0.583576</td>\n      <td>-0.321973</td>\n      <td>0.901066</td>\n      <td>-0.378945</td>\n      <td>-0.161513</td>\n      <td>-0.726174</td>\n    </tr>\n    <tr>\n      <th>2594</th>\n      <td>18.758313</td>\n      <td>-3.817129</td>\n      <td>0.151512</td>\n      <td>1.971991</td>\n      <td>6.004395</td>\n      <td>-1.196212</td>\n      <td>-0.388405</td>\n      <td>-0.737272</td>\n      <td>-3.659581</td>\n      <td>-1.044254</td>\n      <td>...</td>\n      <td>-0.279443</td>\n      <td>-0.091588</td>\n      <td>-0.205254</td>\n      <td>-0.438433</td>\n      <td>0.103915</td>\n      <td>0.316886</td>\n      <td>0.032708</td>\n      <td>-0.243252</td>\n      <td>0.013828</td>\n      <td>0.230029</td>\n    </tr>\n    <tr>\n      <th>2595</th>\n      <td>50.555385</td>\n      <td>-5.648825</td>\n      <td>1.304590</td>\n      <td>6.249240</td>\n      <td>-1.606102</td>\n      <td>4.960585</td>\n      <td>1.000938</td>\n      <td>2.544505</td>\n      <td>-3.716988</td>\n      <td>4.149089</td>\n      <td>...</td>\n      <td>0.458984</td>\n      <td>-0.933398</td>\n      <td>0.698713</td>\n      <td>0.483534</td>\n      <td>-0.570287</td>\n      <td>0.244773</td>\n      <td>-1.227228</td>\n      <td>-0.978806</td>\n      <td>-0.399484</td>\n      <td>-0.449096</td>\n    </tr>\n  </tbody>\n</table>\n<p>2596 rows × 500 columns</p>\n</div>"
     },
     "execution_count": 33,
     "metadata": {},
     "output_type": "execute_result"
    }
   ],
   "source": [
    "# 降维后的\n",
    "df2 = pd.DataFrame(transformed_vectors)\n",
    "df2"
   ],
   "metadata": {
    "collapsed": false
   }
  },
  {
   "cell_type": "markdown",
   "source": [
    "# 分数据集"
   ],
   "metadata": {
    "collapsed": false,
    "id": "LbUsSm7pj4f-"
   }
  },
  {
   "cell_type": "code",
   "execution_count": 34,
   "outputs": [],
   "source": [
    "from sklearn.model_selection import train_test_split\n",
    "\n",
    "train_val_X_tfidf, test_X_tfidf, train_val_y_tfidf, test_y_tfidf = train_test_split(df1, df['label'], test_size=0.2, random_state=42)\n",
    "train_X_tfidf, val_X_tfidf, train_y_tfidf, val_y_tfidf = train_test_split(train_val_X_tfidf, train_val_y_tfidf, test_size=0.25, random_state=42)\n",
    "\n",
    "train_val_X_bag, test_X_bag, train_val_y_bag, test_y_bag = train_test_split(df2, df['label'], test_size=0.2, random_state=42)\n",
    "train_X_bag, val_X_bag, train_y_bag, val_y_bag = train_test_split(train_val_X_bag, train_val_y_bag, test_size=0.25, random_state=42)"
   ],
   "metadata": {
    "collapsed": false
   }
  },
  {
   "cell_type": "markdown",
   "source": [
    "# Modeling"
   ],
   "metadata": {
    "collapsed": false
   }
  },
  {
   "cell_type": "code",
   "execution_count": 35,
   "outputs": [],
   "source": [
    "from sklearn.tree import DecisionTreeClassifier\n",
    "from sklearn.metrics import accuracy_score, f1_score, confusion_matrix\n",
    "from sklearn.model_selection import train_test_split,GridSearchCV,cross_val_score\n"
   ],
   "metadata": {
    "collapsed": false
   }
  },
  {
   "cell_type": "markdown",
   "source": [
    "# TF-IDF"
   ],
   "metadata": {
    "collapsed": false
   }
  },
  {
   "cell_type": "code",
   "execution_count": 36,
   "outputs": [
    {
     "name": "stdout",
     "output_type": "stream",
     "text": [
      "gini: 0.9551\n",
      "entropy: 0.9628\n"
     ]
    }
   ],
   "source": [
    "DT = DecisionTreeClassifier(random_state = 66)\n",
    "score = cross_val_score(DT,train_X_tfidf,train_y_tfidf,cv=10).mean()\n",
    "print('gini: %.4f'%score)\n",
    "DT = DecisionTreeClassifier(criterion = 'entropy',random_state = 66)\n",
    "score = cross_val_score(DT,train_X_tfidf,train_y_tfidf,cv=10).mean()\n",
    "print('entropy: %.4f'%score)"
   ],
   "metadata": {
    "collapsed": false
   }
  },
  {
   "cell_type": "code",
   "execution_count": 42,
   "outputs": [
    {
     "name": "stdout",
     "output_type": "stream",
     "text": [
      "最优参数以及最高得分: [10.          0.96275848]\n"
     ]
    },
    {
     "data": {
      "text/plain": "<Figure size 2000x500 with 1 Axes>",
      "image/png": "[encoded data removed]"
     },
     "metadata": {},
     "output_type": "display_data"
    }
   ],
   "source": [
    "###在大范围内画出max_depth这个参数变化曲线\n",
    "import matplotlib.pyplot as plt\n",
    "ScoreAll = []\n",
    "for i in range(10,100,10):\n",
    "    DT = DecisionTreeClassifier(criterion = 'entropy', max_depth = i,random_state = 66)\n",
    "    score = cross_val_score(DT,train_X_tfidf,train_y_tfidf,cv=10).mean()\n",
    "    ScoreAll.append([i,score])\n",
    "ScoreAll = np.array(ScoreAll)\n",
    "\n",
    "max_score = np.where(ScoreAll==np.max(ScoreAll[:,1]))[0][0]\n",
    "print(\"最优参数以及最高得分:\",ScoreAll[max_score])\n",
    "# print(ScoreAll[,0])\n",
    "plt.figure(figsize=[20,5])\n",
    "plt.plot(ScoreAll[:,0],ScoreAll[:,1])\n",
    "plt.show()"
   ],
   "metadata": {
    "collapsed": false
   }
  },
  {
   "cell_type": "code",
   "execution_count": 43,
   "outputs": [
    {
     "name": "stdout",
     "output_type": "stream",
     "text": [
      "最优参数以及最高得分: [3.         0.96789909]\n"
     ]
    },
    {
     "data": {
      "text/plain": "<Figure size 2000x500 with 1 Axes>",
      "image/png": "[encoded data removed]"
     },
     "metadata": {},
     "output_type": "display_data"
    }
   ],
   "source": [
    "###进一步缩小max_depth这个参数的范围\n",
    "ScoreAll = []\n",
    "for i in range(1,15):\n",
    "    DT = DecisionTreeClassifier(criterion = 'entropy', max_depth = i,random_state = 66)\n",
    "    score = cross_val_score(DT,train_X_tfidf,train_y_tfidf,cv=10).mean()\n",
    "    ScoreAll.append([i,score])\n",
    "ScoreAll = np.array(ScoreAll)\n",
    "\n",
    "max_score = np.where(ScoreAll==np.max(ScoreAll[:,1]))[0][0]\n",
    "print(\"最优参数以及最高得分:\",ScoreAll[max_score])\n",
    "# print(ScoreAll[,0])\n",
    "plt.figure(figsize=[20,5])\n",
    "plt.plot(ScoreAll[:,0],ScoreAll[:,1])\n",
    "plt.show()"
   ],
   "metadata": {
    "collapsed": false
   }
  },
  {
   "cell_type": "code",
   "execution_count": 44,
   "outputs": [
    {
     "name": "stdout",
     "output_type": "stream",
     "text": [
      "最优参数以及最高得分: [2.         0.96789909]\n"
     ]
    },
    {
     "data": {
      "text/plain": "<Figure size 2000x500 with 1 Axes>",
      "image/png": "[encoded data removed]"
     },
     "metadata": {},
     "output_type": "display_data"
    }
   ],
   "source": [
    "#单独看看min_samples_split的变化趋势\n",
    "ScoreAll = []\n",
    "for i in range(2,30):\n",
    "    DT = DecisionTreeClassifier(criterion = 'entropy', max_depth = 3,\n",
    "                                min_samples_split = i, random_state = 66)\n",
    "    score = cross_val_score(DT,train_X_tfidf,train_y_tfidf,cv=10).mean()\n",
    "    ScoreAll.append([i,score])\n",
    "ScoreAll = np.array(ScoreAll)\n",
    "\n",
    "max_score = np.where(ScoreAll==np.max(ScoreAll[:,1]))[0][0]\n",
    "print(\"最优参数以及最高得分:\",ScoreAll[max_score])\n",
    "# print(ScoreAll[,0])\n",
    "plt.figure(figsize=[20,5])\n",
    "plt.plot(ScoreAll[:,0],ScoreAll[:,1])\n",
    "plt.show()"
   ],
   "metadata": {
    "collapsed": false
   }
  },
  {
   "cell_type": "code",
   "execution_count": 45,
   "outputs": [
    {
     "name": "stdout",
     "output_type": "stream",
     "text": [
      "最优参数以及最高得分: [6.         0.96918528]\n"
     ]
    },
    {
     "data": {
      "text/plain": "<Figure size 2000x500 with 1 Axes>",
      "image/png": "[encoded data removed]"
     },
     "metadata": {},
     "output_type": "display_data"
    }
   ],
   "source": [
    "###调min_samples_leaf这个参数\n",
    "from sklearn.model_selection import cross_val_score\n",
    "import matplotlib.pyplot as plt\n",
    "import numpy as np\n",
    "\n",
    "ScoreAll = []\n",
    "for i in range(1,30):\n",
    "    DT = DecisionTreeClassifier(criterion = 'entropy', max_depth = 3,\n",
    "                                min_samples_leaf = i, min_samples_split = 2, random_state = 66)\n",
    "    score = cross_val_score(DT,train_X_tfidf,train_y_tfidf,cv=10).mean()\n",
    "    ScoreAll.append([i,score])\n",
    "ScoreAll = np.array(ScoreAll)\n",
    "\n",
    "max_score = np.where(ScoreAll==np.max(ScoreAll[:,1]))[0][0]\n",
    "print(\"最优参数以及最高得分:\",ScoreAll[max_score])\n",
    "# print(ScoreAll[,0])\n",
    "plt.figure(figsize=[20,5])\n",
    "plt.plot(ScoreAll[:,0],ScoreAll[:,1])\n",
    "plt.show()\n"
   ],
   "metadata": {
    "collapsed": false
   }
  },
  {
   "cell_type": "code",
   "execution_count": 46,
   "outputs": [
    {
     "name": "stderr",
     "output_type": "stream",
     "text": [
      "/Users/pan/opt/anaconda3/lib/python3.9/site-packages/sklearn/model_selection/_validation.py:372: FitFailedWarning: \n",
      "540 fits failed out of a total of 3780.\n",
      "The score on these train-test partitions for these parameters will be set to nan.\n",
      "If these failures are not expected, you can try to debug them by setting error_score='raise'.\n",
      "\n",
      "Below are more details about the failures:\n",
      "--------------------------------------------------------------------------------\n",
      "540 fits failed with the following error:\n",
      "Traceback (most recent call last):\n",
      "  File \"/Users/pan/opt/anaconda3/lib/python3.9/site-packages/sklearn/model_selection/_validation.py\", line 680, in _fit_and_score\n",
      "    estimator.fit(X_train, y_train, **fit_params)\n",
      "  File \"/Users/pan/opt/anaconda3/lib/python3.9/site-packages/sklearn/tree/_classes.py\", line 937, in fit\n",
      "    super().fit(\n",
      "  File \"/Users/pan/opt/anaconda3/lib/python3.9/site-packages/sklearn/tree/_classes.py\", line 250, in fit\n",
      "    raise ValueError(\n",
      "ValueError: min_samples_split must be an integer greater than 1 or a float in (0.0, 1.0]; got the integer 1\n",
      "\n",
      "  warnings.warn(some_fits_failed_message, FitFailedWarning)\n",
      "/Users/pan/opt/anaconda3/lib/python3.9/site-packages/sklearn/model_selection/_search.py:969: UserWarning: One or more of the test scores are non-finite: [       nan 0.85873036 0.85873036 0.85873036 0.85873036 0.85873036\n",
      " 0.85873036        nan 0.85873036 0.85873036 0.85873036 0.85873036\n",
      " 0.85873036 0.85873036        nan 0.85873036 0.85873036 0.85873036\n",
      " 0.85873036 0.85873036 0.85873036        nan 0.85873036 0.85873036\n",
      " 0.85873036 0.85873036 0.85873036 0.85873036        nan 0.85873036\n",
      " 0.85873036 0.85873036 0.85873036 0.85873036 0.85873036        nan\n",
      " 0.85873036 0.85873036 0.85873036 0.85873036 0.85873036 0.85873036\n",
      "        nan 0.9524938  0.9524938  0.9524938  0.9524938  0.9524938\n",
      " 0.9524938         nan 0.9524938  0.9524938  0.9524938  0.9524938\n",
      " 0.9524938  0.9524938         nan 0.95185277 0.95185277 0.95185277\n",
      " 0.95185277 0.95185277 0.95185277        nan 0.95121175 0.95121175\n",
      " 0.95121175 0.95121175 0.95121175 0.95121175        nan 0.9524938\n",
      " 0.9524938  0.9524938  0.9524938  0.9524938  0.9524938         nan\n",
      " 0.9524938  0.9524938  0.9524938  0.9524938  0.9524938  0.9524938\n",
      "        nan 0.95698511 0.95698511 0.95698511 0.95698511 0.95698511\n",
      " 0.95698511        nan 0.95826716 0.95826716 0.95826716 0.95826716\n",
      " 0.95826716 0.95826716        nan 0.95826716 0.95826716 0.95826716\n",
      " 0.95826716 0.95826716 0.95826716        nan 0.95698511 0.95698511\n",
      " 0.95698511 0.95698511 0.95698511 0.95698511        nan 0.95891232\n",
      " 0.95891232 0.95891232 0.95891232 0.95891232 0.95891232        nan\n",
      " 0.95955335 0.95955335 0.95955335 0.95955335 0.95955335 0.95955335\n",
      "        nan 0.96017783 0.96017783 0.96017783 0.96017783 0.95889578\n",
      " 0.95889578        nan 0.95954094 0.95954094 0.95954094 0.95954094\n",
      " 0.95954094 0.96018197        nan 0.96018197 0.96018197 0.96018197\n",
      " 0.96018197 0.96018197 0.96018197        nan 0.95698098 0.95698098\n",
      " 0.95698098 0.95698098 0.95698098 0.95698098        nan 0.96016129\n",
      " 0.96016129 0.96016129 0.96016129 0.96016129 0.96016129        nan\n",
      " 0.96144748 0.96144748 0.96144748 0.96144748 0.96144748 0.96144748\n",
      "        nan 0.96533499 0.96533499 0.96533499 0.96661704 0.96597601\n",
      " 0.96597601        nan 0.9679115  0.9679115  0.9679115  0.9679115\n",
      " 0.9679115  0.96727047        nan 0.97047146 0.97047146 0.97047146\n",
      " 0.97047146 0.97047146 0.97047146        nan 0.9666129  0.9666129\n",
      " 0.9666129  0.9666129  0.9666129  0.9666129         nan 0.96918114\n",
      " 0.96918114 0.96918114 0.96918114 0.96918114 0.96918114        nan\n",
      " 0.97175352 0.97175352 0.97175352 0.97175352 0.97175352 0.97175352\n",
      "        nan 0.96468983 0.96468983 0.96468983 0.96918114 0.96854012\n",
      " 0.96854012        nan 0.96854839 0.96854839 0.96854839 0.96854839\n",
      " 0.96854839 0.96918941        nan 0.97045906 0.97045906 0.97045906\n",
      " 0.97045906 0.97045906 0.97045906        nan 0.96595947 0.96595947\n",
      " 0.96595947 0.96595947 0.96595947 0.96595947        nan 0.96659636\n",
      " 0.96659636 0.96659636 0.96659636 0.96659636 0.96659636        nan\n",
      " 0.97046319 0.97046319 0.97046319 0.97046319 0.97046319 0.97046319\n",
      "        nan 0.96212159 0.96212159 0.96212159 0.96725806 0.96854012\n",
      " 0.96854012        nan 0.96790323 0.96790323 0.96790323 0.96790323\n",
      " 0.96790323 0.96854425        nan 0.97110008 0.97110008 0.97110008\n",
      " 0.97110008 0.97110008 0.97110008        nan 0.96467328 0.96467328\n",
      " 0.96467328 0.96467328 0.96467328 0.96467328        nan 0.9659512\n",
      " 0.9659512  0.9659512  0.9659512  0.9659512  0.9659512         nan\n",
      " 0.97046319 0.97046319 0.97046319 0.97046319 0.97046319 0.97046319\n",
      "        nan 0.96468569 0.96468569 0.96468569 0.96725806 0.96789909\n",
      " 0.96789909        nan 0.96854425 0.96854425 0.96854425 0.96854425\n",
      " 0.96854425 0.96854425        nan 0.97045906 0.97045906 0.97045906\n",
      " 0.97045906 0.97045906 0.97045906        nan 0.96467328 0.96467328\n",
      " 0.96467328 0.96467328 0.96467328 0.96467328        nan 0.9659512\n",
      " 0.9659512  0.9659512  0.9659512  0.9659512  0.9659512         nan\n",
      " 0.97046319 0.97046319 0.97046319 0.97046319 0.97046319 0.97046319\n",
      "        nan 0.96404467 0.96404467 0.96404467 0.96789909 0.96854012\n",
      " 0.96854012        nan 0.96854425 0.96854425 0.96854425 0.96854425\n",
      " 0.96854425 0.96854425        nan 0.97045906 0.97045906 0.97045906\n",
      " 0.97045906 0.97045906 0.97045906        nan 0.96467328 0.96467328\n",
      " 0.96467328 0.96467328 0.96467328 0.96467328        nan 0.9659512\n",
      " 0.9659512  0.9659512  0.9659512  0.9659512  0.9659512         nan\n",
      " 0.97046319 0.97046319 0.97046319 0.97046319 0.97046319 0.97046319]\n",
      "  warnings.warn(\n"
     ]
    },
    {
     "name": "stdout",
     "output_type": "stream",
     "text": [
      "{'max_depth': 5, 'min_samples_leaf': 7, 'min_samples_split': 2}\n",
      "0.9717535153019023\n"
     ]
    }
   ],
   "source": [
    "# 这个跑的巨慢\n",
    "#max_depth、min_samples_leaf和min_samples_split一块儿调整\n",
    "param_grid = {\n",
    "    'max_depth':np.arange(1, 10),\n",
    "    'min_samples_leaf':np.arange(2, 8),\n",
    "    'min_samples_split':np.arange(1, 8)}\n",
    "\n",
    "rfc = DecisionTreeClassifier(random_state=66)\n",
    "GS = GridSearchCV(rfc,param_grid,cv=10)\n",
    "GS.fit(train_X_tfidf,train_y_tfidf)\n",
    "print(GS.best_params_)\n",
    "print(GS.best_score_)"
   ],
   "metadata": {
    "collapsed": false
   }
  },
  {
   "cell_type": "code",
   "execution_count": 52,
   "outputs": [
    {
     "name": "stdout",
     "output_type": "stream",
     "text": [
      "TF-IDF & Test dataset:\n",
      "\n",
      "Accuracy: 0.9730769230769231\n",
      "F1: 0.9066666666666667\n",
      "Confusion matrix:\n",
      " [[438   2]\n",
      " [ 12  68]]\n"
     ]
    }
   ],
   "source": [
    "# 最优结果{'max_depth': 5, 'min_samples_leaf': 7, 'min_samples_split': 2}\n",
    "dt_tfidf = DecisionTreeClassifier(criterion ='entropy', max_depth =5,\n",
    "                                  min_samples_leaf = 7, min_samples_split =2, random_state =66)\n",
    "dt_tfidf.fit(train_X_tfidf, train_y_tfidf)\n",
    "\n",
    "\n",
    "y_pred_tfidf = dt_tfidf.predict(test_X_tfidf)\n",
    "print(\"TF-IDF & Test dataset:\\n\")\n",
    "print(\"Accuracy:\", accuracy_score(test_y_tfidf, y_pred_tfidf))\n",
    "print(\"F1:\", f1_score(test_y_tfidf, y_pred_tfidf))\n",
    "print(\"Confusion matrix:\\n\", confusion_matrix(test_y_tfidf, y_pred_tfidf))"
   ],
   "metadata": {
    "collapsed": false
   }
  },
  {
   "cell_type": "code",
   "execution_count": 53,
   "outputs": [
    {
     "name": "stdout",
     "output_type": "stream",
     "text": [
      "TF-IDF & Validation dataset:\n",
      "\n",
      "Accuracy: 0.9845857418111753\n",
      "F1: 0.9444444444444444\n",
      "Confusion matrix:\n",
      " [[443   4]\n",
      " [  4  68]]\n"
     ]
    }
   ],
   "source": [
    "val_y_pred_tfidf = dt_tfidf.predict(val_X_tfidf)\n",
    "print(\"TF-IDF & Validation dataset:\\n\")\n",
    "print(\"Accuracy:\", accuracy_score(val_y_tfidf, val_y_pred_tfidf))\n",
    "print(\"F1:\", f1_score(val_y_tfidf, val_y_pred_tfidf))\n",
    "print(\"Confusion matrix:\\n\", confusion_matrix(val_y_tfidf, val_y_pred_tfidf))"
   ],
   "metadata": {
    "collapsed": false
   }
  },
  {
   "cell_type": "markdown",
   "source": [
    "# BoW"
   ],
   "metadata": {
    "collapsed": false
   }
  },
  {
   "cell_type": "code",
   "execution_count": 54,
   "outputs": [
    {
     "name": "stdout",
     "output_type": "stream",
     "text": [
      "gini: 0.9332\n",
      "entropy: 0.9628\n"
     ]
    }
   ],
   "source": [
    "DT = DecisionTreeClassifier(random_state = 66)\n",
    "score = cross_val_score(DT,train_X_bag,train_y_bag,cv=10).mean()\n",
    "print('gini: %.4f'%score)\n",
    "DT = DecisionTreeClassifier(criterion = 'entropy',random_state = 66)\n",
    "score = cross_val_score(DT,train_X_tfidf,train_y_tfidf,cv=10).mean()\n",
    "print('entropy: %.4f'%score)"
   ],
   "metadata": {
    "collapsed": false
   }
  },
  {
   "cell_type": "code",
   "execution_count": 55,
   "outputs": [
    {
     "name": "stdout",
     "output_type": "stream",
     "text": [
      "最优参数以及最高得分: [10.          0.94415219]\n"
     ]
    },
    {
     "data": {
      "text/plain": "<Figure size 2000x500 with 1 Axes>",
      "image/png": "[encoded data removed]"
     },
     "metadata": {},
     "output_type": "display_data"
    }
   ],
   "source": [
    "###在大范围内画出max_depth这个参数变化曲线\n",
    "import matplotlib.pyplot as plt\n",
    "ScoreAll = []\n",
    "for i in range(10,100,10):\n",
    "    DT = DecisionTreeClassifier(criterion = 'entropy', max_depth = i,random_state = 66)\n",
    "    score = cross_val_score(DT,train_X_bag,train_y_bag,cv=10).mean()\n",
    "    ScoreAll.append([i,score])\n",
    "ScoreAll = np.array(ScoreAll)\n",
    "\n",
    "max_score = np.where(ScoreAll==np.max(ScoreAll[:,1]))[0][0]\n",
    "print(\"最优参数以及最高得分:\",ScoreAll[max_score])\n",
    "# print(ScoreAll[,0])\n",
    "plt.figure(figsize=[20,5])\n",
    "plt.plot(ScoreAll[:,0],ScoreAll[:,1])\n",
    "plt.show()"
   ],
   "metadata": {
    "collapsed": false
   }
  },
  {
   "cell_type": "code",
   "execution_count": 56,
   "outputs": [
    {
     "name": "stdout",
     "output_type": "stream",
     "text": [
      "最优参数以及最高得分: [6.         0.94607527]\n"
     ]
    },
    {
     "data": {
      "text/plain": "<Figure size 2000x500 with 1 Axes>",
      "image/png": "[encoded data removed]"
     },
     "metadata": {},
     "output_type": "display_data"
    }
   ],
   "source": [
    "###进一步缩小max_depth这个参数的范围\n",
    "ScoreAll = []\n",
    "for i in range(1,15):\n",
    "    DT = DecisionTreeClassifier(criterion = 'entropy', max_depth = i,random_state = 66)\n",
    "    score = cross_val_score(DT,train_X_bag,train_y_bag,cv=10).mean()\n",
    "    ScoreAll.append([i,score])\n",
    "ScoreAll = np.array(ScoreAll)\n",
    "\n",
    "max_score = np.where(ScoreAll==np.max(ScoreAll[:,1]))[0][0]\n",
    "print(\"最优参数以及最高得分:\",ScoreAll[max_score])\n",
    "# print(ScoreAll[,0])\n",
    "plt.figure(figsize=[20,5])\n",
    "plt.plot(ScoreAll[:,0],ScoreAll[:,1])\n",
    "plt.show()"
   ],
   "metadata": {
    "collapsed": false
   }
  },
  {
   "cell_type": "code",
   "execution_count": 62,
   "outputs": [
    {
     "name": "stdout",
     "output_type": "stream",
     "text": [
      "最优参数以及最高得分: [28.          0.94672043]\n"
     ]
    },
    {
     "data": {
      "text/plain": "<Figure size 2000x500 with 1 Axes>",
      "image/png": "[encoded data removed]"
     },
     "metadata": {},
     "output_type": "display_data"
    }
   ],
   "source": [
    "#单独看看min_samples_split的变化趋势\n",
    "ScoreAll = []\n",
    "for i in range(2, 40):\n",
    "    DT = DecisionTreeClassifier(criterion='entropy', max_depth=6,\n",
    "                                min_samples_split=i, random_state=66)\n",
    "    score = cross_val_score(DT, train_X_bag, train_y_bag, cv=10).mean()\n",
    "    ScoreAll.append([i, score])\n",
    "ScoreAll = np.array(ScoreAll)\n",
    "\n",
    "max_score = np.where(ScoreAll == np.max(ScoreAll[:, 1]))[0][0]\n",
    "print(\"最优参数以及最高得分:\", ScoreAll[max_score])\n",
    "# print(ScoreAll[,0])\n",
    "plt.figure(figsize=[20, 5])\n",
    "plt.plot(ScoreAll[:, 0], ScoreAll[:, 1])\n",
    "plt.show()"
   ],
   "metadata": {
    "collapsed": false
   }
  },
  {
   "cell_type": "code",
   "execution_count": 60,
   "outputs": [
    {
     "name": "stdout",
     "output_type": "stream",
     "text": [
      "最优参数以及最高得分: [4.         0.94800248]\n"
     ]
    },
    {
     "data": {
      "text/plain": "<Figure size 2000x500 with 1 Axes>",
      "image/png": "[encoded data removed]"
     },
     "metadata": {},
     "output_type": "display_data"
    }
   ],
   "source": [
    "###调min_samples_leaf这个参数\n",
    "from sklearn.model_selection import cross_val_score\n",
    "import matplotlib.pyplot as plt\n",
    "import numpy as np\n",
    "\n",
    "ScoreAll = []\n",
    "for i in range(1,25):\n",
    "    DT = DecisionTreeClassifier(criterion = 'entropy', max_depth = 6,\n",
    "                                min_samples_leaf = i, min_samples_split = 28, random_state = 66)\n",
    "    score = cross_val_score(DT,train_X_bag,train_y_bag,cv=10).mean()\n",
    "    ScoreAll.append([i,score])\n",
    "ScoreAll = np.array(ScoreAll)\n",
    "\n",
    "max_score = np.where(ScoreAll==np.max(ScoreAll[:,1]))[0][0]\n",
    "print(\"最优参数以及最高得分:\",ScoreAll[max_score])\n",
    "# print(ScoreAll[,0])\n",
    "plt.figure(figsize=[20,5])\n",
    "plt.plot(ScoreAll[:,0],ScoreAll[:,1])\n",
    "plt.show()\n"
   ],
   "metadata": {
    "collapsed": false
   }
  },
  {
   "cell_type": "code",
   "execution_count": 64,
   "outputs": [
    {
     "name": "stdout",
     "output_type": "stream",
     "text": [
      "{'max_depth': 6, 'min_samples_leaf': 4, 'min_samples_split': 26}\n",
      "0.9434822167080231\n"
     ]
    }
   ],
   "source": [
    "#max_depth、min_samples_leaf和min_samples_split一块儿调整\n",
    "param_grid = {\n",
    "    'max_depth':np.arange(2, 8),\n",
    "    'min_samples_leaf':np.arange(2, 6),\n",
    "    'min_samples_split':np.arange(26, 32)}\n",
    "\n",
    "rfc = DecisionTreeClassifier(random_state=66)\n",
    "GS = GridSearchCV(rfc,param_grid,cv=10)\n",
    "GS.fit(train_X_bag,train_y_bag)\n",
    "print(GS.best_params_)\n",
    "print(GS.best_score_)"
   ],
   "metadata": {
    "collapsed": false
   }
  },
  {
   "cell_type": "code",
   "execution_count": 65,
   "outputs": [
    {
     "name": "stdout",
     "output_type": "stream",
     "text": [
      "TF-IDF & Test dataset:\n",
      "\n",
      "Accuracy: 0.9615384615384616\n",
      "F1: 0.8666666666666666\n",
      "Confusion matrix:\n",
      " [[435   5]\n",
      " [ 15  65]]\n"
     ]
    }
   ],
   "source": [
    "# 最优结果 {'max_depth': 6, 'min_samples_leaf': 4, 'min_samples_split': 26}\n",
    "dt_bag = DecisionTreeClassifier(criterion ='entropy', max_depth = 6,\n",
    "                                  min_samples_leaf = 4, min_samples_split = 26, random_state = 66)\n",
    "dt_bag.fit(train_X_bag, train_y_bag)\n",
    "\n",
    "\n",
    "y_pred_bag = dt_bag.predict(test_X_bag)\n",
    "print(\"TF-IDF & Test dataset:\\n\")\n",
    "print(\"Accuracy:\", accuracy_score(test_y_bag, y_pred_bag))\n",
    "print(\"F1:\", f1_score(test_y_bag, y_pred_bag))\n",
    "print(\"Confusion matrix:\\n\", confusion_matrix(test_y_bag, y_pred_bag))"
   ],
   "metadata": {
    "collapsed": false
   }
  },
  {
   "cell_type": "code",
   "execution_count": 66,
   "outputs": [
    {
     "name": "stdout",
     "output_type": "stream",
     "text": [
      "TF-IDF & Validation dataset:\n",
      "\n",
      "Accuracy: 0.9556840077071291\n",
      "F1: 0.8368794326241135\n",
      "Confusion matrix:\n",
      " [[437  10]\n",
      " [ 13  59]]\n"
     ]
    }
   ],
   "source": [
    "val_y_pred_bag = dt_bag.predict(val_X_bag)\n",
    "print(\"TF-IDF & Validation dataset:\\n\")\n",
    "print(\"Accuracy:\", accuracy_score(val_y_bag, val_y_pred_bag))\n",
    "print(\"F1:\", f1_score(val_y_bag, val_y_pred_bag))\n",
    "print(\"Confusion matrix:\\n\", confusion_matrix(val_y_bag, val_y_pred_bag))"
   ],
   "metadata": {
    "collapsed": false
   }
  },
  {
   "cell_type": "code",
   "execution_count": null,
   "outputs": [],
   "source": [
    "'''\n",
    "from sklearn.model_selection import RandomizedSearchCV\n",
    "from scipy.stats import randint\n",
    "# 创建决策树分类器对象\n",
    "dt_tfidf = DecisionTreeClassifier()\n",
    "\n",
    "# 定义超参数分布\n",
    "param_dist = {'max_depth': randint(2, 10), 'min_samples_split': randint(2, 20)}\n",
    "\n",
    "# 进行随机搜索\n",
    "random_search = RandomizedSearchCV(dt_tfidf, param_distributions=param_dist, n_iter=20, cv=5)\n",
    "random_search.fit(train_X_tfidf, train_y_tfidf)\n",
    "\n",
    "# 输出最佳超参数组合\n",
    "# print(\"Best hyperparameters:\", random_search.best_params_)\n",
    "\n",
    "# 使用最佳超参数组合重新训练模型\n",
    "dt_tfidf = DecisionTreeClassifier(max_depth=random_search.best_params_['max_depth'],\n",
    "                                  min_samples_split=random_search.best_params_['min_samples_split'])\n",
    "\n",
    "dt_tfidf.fit(train_X_tfidf, train_y_tfidf)\n",
    "\n",
    "\n",
    "\n",
    "dt_bag = DecisionTreeClassifier()\n",
    "\n",
    "# 定义超参数分布\n",
    "param_dist = {'max_depth': randint(2, 10), 'min_samples_split': randint(2, 20)}\n",
    "\n",
    "# 进行随机搜索\n",
    "random_search = RandomizedSearchCV(dt_bag, param_distributions=param_dist, n_iter=20, cv=5)\n",
    "random_search.fit(train_X_bag, train_y_bag)\n",
    "\n",
    "# 输出最佳超参数组合\n",
    "dt_bag = DecisionTreeClassifier(max_depth=random_search.best_params_['max_depth'],\n",
    "                                min_samples_split=random_search.best_params_['min_samples_split'])\n",
    "\n",
    "dt_bag.fit(train_X_bag, train_y_bag)\n",
    "\n",
    "# TF-IDF\n",
    "# 在测试集上评估模型性能\n",
    "y_pred_tfidf = dt_tfidf.predict(test_X_tfidf)\n",
    "acc_tfidf = accuracy_score(test_y_tfidf, y_pred_tfidf)\n",
    "#print(\"TF-IDF Test accuracy:\", acc_tfidf)\n",
    "f1_tfidf = f1_score(test_y_tfidf, y_pred_tfidf)\n",
    "#print(\"TF-IDF F1 score:\", f1_tfidf)\n",
    "cm_tfidf = confusion_matrix(test_y_tfidf, y_pred_tfidf)\n",
    "\n",
    "# BoW\n",
    "y_pred_bag = dt_bag.predict(test_X_bag)\n",
    "acc_bag = accuracy_score(test_y_bag, y_pred_bag)\n",
    "# print(\"BoW Test accuracy:\", acc_bag)\n",
    "# 假设 y_true 和 y_pred 分别为真实标签和模型预测标签\n",
    "f1_bag = f1_score(test_y_bag, y_pred_bag)\n",
    "# print(\"BoW F1 score:\", f1_bag)\n",
    "# 假设 y_true 和 y_pred 分别为真实标签和模型预测标签\n",
    "cm_bag = confusion_matrix(test_y_bag, y_pred_bag)\n",
    "\n",
    "print(\"TF-IDF Test Confusion matrix:\\n\", cm_tfidf)\n",
    "print(\"BoW Test Confusion matrix:\\n\", cm_bag)\n",
    "data = [['TF-IDF', acc_tfidf, f1_tfidf], ['BoW', acc_bag, f1_bag]]\n",
    "df = pd.DataFrame(data, columns=['Method', 'Accuracy', 'F1 score'])\n",
    "\n",
    "print(\"TF-IDF Validation Confusion matrix:\\n\", val_cm_tfidf)\n",
    "print(\"BoW Validation Confusion matrix:\\n\", val_cm_bag)\n",
    "data_val = [['TF-IDF', val_acc_tfidf, val_f1_tfidf], ['BoW', val_acc_bag, val_f1_bag]]\n",
    "df_val = pd.DataFrame(data_val, columns=['Method', 'Accuracy', 'F1 score'])\n",
    "'''"
   ],
   "metadata": {
    "collapsed": false
   }
  }
 ],
 "metadata": {
  "kernelspec": {
   "display_name": "Python 3",
   "language": "python",
   "name": "python3"
  },
  "language_info": {
   "codemirror_mode": {
    "name": "ipython",
    "version": 2
   },
   "file_extension": ".py",
   "mimetype": "text/x-python",
   "name": "python",
   "nbconvert_exporter": "python",
   "pygments_lexer": "ipython2",
   "version": "2.7.6"
  },
  "colab": {
   "provenance": []
  }
 },
 "nbformat": 4,
 "nbformat_minor": 0
}
